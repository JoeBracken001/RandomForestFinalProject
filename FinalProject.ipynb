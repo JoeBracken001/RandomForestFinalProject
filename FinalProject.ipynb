{
 "cells": [
  {
   "cell_type": "code",
   "execution_count": 1,
   "id": "a797b870",
   "metadata": {},
   "outputs": [],
   "source": [
    "import numpy as np\n",
    "import pandas as pd\n",
    "from sklearn import tree, ensemble\n",
    "import matplotlib.pyplot as plt\n",
    "from sklearn.inspection import permutation_importance"
   ]
  },
  {
   "cell_type": "markdown",
   "id": "6c214882",
   "metadata": {},
   "source": [
    "A Random Forest Approach with Bayesian optimisation \n",
    "-------------------------------------------------------------------------------"
   ]
  },
  {
   "cell_type": "markdown",
   "id": "09bcefa0",
   "metadata": {},
   "source": [
    "Overview \n",
    "-------------\n",
    "\n",
    "There are a number of steps outlined in this notebook:\n",
    "\n",
    "- Part 1 - Importing the data set and splitting it into training, validation and testing \n",
    "- Part 2 - Fitting a single decision tree\n",
    "- Part 3 - Using a Random Forest Classifier\n",
    "- Part 4 - Looking at the most important features\n",
    "- Part 5 - Hyperparameter selection via Bayesian optimisation\n",
    "- Part 6 - Testing the final performance\n",
    "\n",
    "As an invstment manager I am interested in doing dynamic asset allocation. I have a number (in this case 14) equity markets that I can invest in - ranging from the US (the famous S&P 500),the UK (FTSE 100) and numerous European and Asian markets (Hang Seng, ASX 200).\n",
    "\n",
    "Every month I am looking to see what features are the most likely to point me to the markets that will do better than average over the next month and to those that will do worse than average over th enext month.\n",
    "\n",
    "I am interested in buying a small (c. 5 or 6) markets per month ('the strategy') and seeing if I outperfrom the average of all the markets ('the benchmark').\n",
    "\n",
    "For example, if I have $140 to invest then I wish to use the 'best' features to guide me to the best 5 markets to invest $28 per market in ($28x5 = $140) rather than investing $10 in each of the 14 markets (my equally weighted 'benchmark'). \n",
    "\n",
    "I will guage how well I do (and how well the model performs) by tracking the perfromance of the strategy vs. the equally weighted benchamrk \n",
    "\n",
    "In essence this is a classification problem. If my model correct classifies ('+1') markets that will likely outperfrom next month and ('-1') markets that will likely underperfrom next month then we have a strategy."
   ]
  },
  {
   "cell_type": "markdown",
   "id": "e296396e",
   "metadata": {},
   "source": [
    "Part 1 - Importing and splitting the data set\n",
    "------------------------------------------------------------\n",
    "\n",
    "For this excercise I am using a dataset from my job as an investment manager.\n",
    " \n",
    "The dataset consist of 19 different features for each of the 14 markets. These features are calculated once per month and the dataset ranges from 1991 to 2021. Please see the datasheet that is included with this notebook for more details on both the construction of the features, their origin and any pre-processing of the data. We note that for the data:\n",
    "\n",
    "The training period runs from 1991 - 2010\n",
    "The validation period runs from 2011 - 2015\n",
    "The testing period runs from 2016 - 2021"
   ]
  },
  {
   "cell_type": "markdown",
   "id": "b80016a8",
   "metadata": {},
   "source": [
    "Read in all the data from the data book.\n",
    "Note that the data has been previously checked for NaNs, winsorized and then Z-scored cross-sectionally."
   ]
  },
  {
   "cell_type": "code",
   "execution_count": 2,
   "id": "740ef9b0",
   "metadata": {},
   "outputs": [],
   "source": [
    "df_MOM12 = pd.read_excel('Databook.xlsx',sheet_name='MOM12M')\n",
    "df_MOM6 = pd.read_excel('Databook.xlsx',sheet_name='MOM6M')\n",
    "df_MOM3 = pd.read_excel('Databook.xlsx',sheet_name='MOM3M')\n",
    "df_MOM1 = pd.read_excel('Databook.xlsx',sheet_name='MOM1M')\n",
    "df_SMEY = pd.read_excel('Databook.xlsx',sheet_name='SMEY')\n",
    "df_EY = pd.read_excel('Databook.xlsx',sheet_name='EY')\n",
    "df_SMBP = pd.read_excel('Databook.xlsx',sheet_name='SMBP')\n",
    "df_BP = pd.read_excel('Databook.xlsx',sheet_name='BP')\n",
    "df_VRP = pd.read_excel('Databook.xlsx',sheet_name='VRP')\n",
    "df_TSPREAD = pd.read_excel('Databook.xlsx',sheet_name='TSPREAD')\n",
    "df_VOL = pd.read_excel('Databook.xlsx',sheet_name='VOL')\n",
    "df_EQSTYLE = pd.read_excel('Databook.xlsx',sheet_name='EQSTYLE')\n",
    "df_IMPVOL = pd.read_excel('Databook.xlsx',sheet_name='IMPVOL')\n",
    "df_FED = pd.read_excel('Databook.xlsx',sheet_name='FED')\n",
    "df_LEI = pd.read_excel('Databook.xlsx',sheet_name='LEI')\n",
    "df_TOVER = pd.read_excel('Databook.xlsx',sheet_name='TOVER')\n",
    "df_BETA = pd.read_excel('Databook.xlsx',sheet_name='BETA')\n",
    "df_ROE = pd.read_excel('Databook.xlsx',sheet_name='ROE')\n",
    "df_FREELIQ = pd.read_excel('Databook.xlsx',sheet_name='FREELIQ')\n",
    "\n",
    "df_XSRET = pd.read_excel('Databook.xlsx',sheet_name='XSRETZS')"
   ]
  },
  {
   "cell_type": "markdown",
   "id": "d87f1a57",
   "metadata": {},
   "source": [
    "Further data processing #1\n",
    "---------------------------------------\n",
    "\n",
    "1. Remove the 'Date' column from all the dataframes and store it separately\n",
    "2. Reformat the data so it is in more 'random forest' friendly format\n",
    "3. Split the data into 'training', 'validation' and 'testing' as defined above\n",
    "4. Lag the features so that the features at time N are assessed in their ability to forecast returns at time N+1"
   ]
  },
  {
   "cell_type": "code",
   "execution_count": 3,
   "id": "db66e7d5",
   "metadata": {},
   "outputs": [],
   "source": [
    "#\n",
    "# The purpose of the two routines below is to re-shape the data\n",
    "#\n",
    "# Typical feature data read from an Excel spreadsheet looks like a matrix:\n",
    "#\n",
    "#            Country1       Country2      Country3      Country4      .... CountryN\n",
    "# Jan 1991   F_C1_Jan1991   F_C2_Jan1991  F_C3_Jan1991  F_C4_Jan1991       F_CN_Jan1991\n",
    "# Feb 1991   F_C1_Feb1991   F_C2_Feb1991  F_C3_Feb1991  F_C4_Feb1991       F_CN_Feb1991\n",
    "# Mar 1991   F_C1_Mar1991   F_C2_Mar1991  F_C3_Mar1991  F_C4_Mar1991       F_CN_Mar1991\n",
    "# ......\n",
    "# Mar 2021   F_C1_Mar2021   F_C2_Mar2021  F_C3_Mar2021  F_C4_Mar2021       F_CN_Mar2021\n",
    "#\n",
    "# We want it to look like a vector\n",
    "#\n",
    "# Jan 1991 F_C1_Jan1991\n",
    "# Jan 1991 F_C2_Jan1991\n",
    "# Jan 1991 F_C3_Jan1991\n",
    "# Jan 1991 F_C4_Jan1991\n",
    "# Jan 1991 F_C5_Jan1991\n",
    "# .......\n",
    "# Jan 1991 F_CN_Jan1991\n",
    "# Feb 1991 F_C1_Feb1991\n",
    "# Feb 1991 F_C2_Feb1991\n",
    "# Feb 1991 F_C3_Feb1991\n",
    "# Feb 1991 F_C4_Feb1991\n",
    "# .......\n",
    "# Mar 2021 F_C1_Mar2021\n",
    "# .....\n",
    "# Mar 2021 F_CN_Mar2021\n",
    "#\n",
    "#\n",
    "# In this format its easier to run the Decision Tree or Random Forest algos\n",
    "#\n",
    "\n",
    "\n",
    "def reshapeArr(wideArr):\n",
    "    narrowArr = sum(wideArr.tolist(),[])\n",
    "    narrowArr = np.array(narrowArr)\n",
    "    narrowArr = narrowArr.reshape(narrowArr.shape[0],1)\n",
    "    return narrowArr\n",
    "\n",
    "def createMatrix(arg1, *argv):\n",
    "    fullMatrix = reshapeArr(np.array(arg1))\n",
    "    for arg in argv:\n",
    "        tmpArr = reshapeArr(np.array(arg))\n",
    "        fullMatrix = np.concatenate([fullMatrix,tmpArr],axis=1)\n",
    "    return fullMatrix"
   ]
  },
  {
   "cell_type": "code",
   "execution_count": 4,
   "id": "40877e58",
   "metadata": {},
   "outputs": [],
   "source": [
    "df_DATE = pd.to_datetime(df_MOM12['Date'])\n",
    "df_MOM12 = df_MOM12.drop('Date',axis=1)\n",
    "df_MOM6 = df_MOM6.drop('Date',axis=1)\n",
    "df_MOM3 = df_MOM3.drop('Date',axis=1)\n",
    "df_MOM1 = df_MOM1.drop('Date',axis=1)\n",
    "df_SMEY = df_SMEY.drop('Date',axis=1)\n",
    "df_EY = df_EY.drop('Date',axis=1)\n",
    "df_SMBP = df_SMBP.drop('Date',axis=1)\n",
    "df_BP = df_BP.drop('Date',axis=1)\n",
    "df_VRP = df_VRP.drop('Date',axis=1)\n",
    "df_TSPREAD = df_TSPREAD.drop('Date',axis=1)\n",
    "df_VOL = df_VOL.drop('Date',axis=1)\n",
    "df_EQSTYLE = df_EQSTYLE.drop('Date',axis=1)\n",
    "df_IMPVOL = df_IMPVOL.drop('Date',axis=1)\n",
    "df_FED = df_FED.drop('Date',axis=1)\n",
    "df_LEI = df_LEI.drop('Date',axis=1)\n",
    "df_TOVER = df_TOVER.drop('Date',axis=1)\n",
    "df_BETA = df_BETA.drop('Date',axis=1)\n",
    "df_ROE = df_ROE.drop('Date',axis=1)\n",
    "df_FREELIQ = df_FREELIQ.drop('Date',axis=1)\n",
    "df_XSRET = df_XSRET.drop('Date',axis=1)"
   ]
  },
  {
   "cell_type": "code",
   "execution_count": 5,
   "id": "43bb534f",
   "metadata": {},
   "outputs": [],
   "source": [
    "#\n",
    "# Split the data\n",
    "#\n",
    "# Please note that since financial data is autocorrelated we can't use any kind of random splitting. \n",
    "# This is covered in the model card.\n",
    "#\n",
    "endTrainDate=pd.Timestamp('2011-01-31 00:00:00')\n",
    "\n",
    "df_MOM12_TRAIN = df_MOM12[0:df_DATE[df_DATE==endTrainDate].index[0]]\n",
    "df_MOM6_TRAIN = df_MOM6[0:df_DATE[df_DATE==endTrainDate].index[0]]\n",
    "df_MOM3_TRAIN = df_MOM3[0:df_DATE[df_DATE==endTrainDate].index[0]]\n",
    "df_MOM1_TRAIN = df_MOM1[0:df_DATE[df_DATE==endTrainDate].index[0]]\n",
    "df_SMEY_TRAIN = df_SMEY[0:df_DATE[df_DATE==endTrainDate].index[0]]\n",
    "df_EY_TRAIN = df_EY[0:df_DATE[df_DATE==endTrainDate].index[0]]\n",
    "df_SMBP_TRAIN = df_SMBP[0:df_DATE[df_DATE==endTrainDate].index[0]]\n",
    "df_BP_TRAIN = df_BP[0:df_DATE[df_DATE==endTrainDate].index[0]]\n",
    "df_VRP_TRAIN = df_VRP[0:df_DATE[df_DATE==endTrainDate].index[0]]\n",
    "df_TSPREAD_TRAIN = df_TSPREAD[0:df_DATE[df_DATE==endTrainDate].index[0]]\n",
    "df_VOL_TRAIN = df_VOL[0:df_DATE[df_DATE==endTrainDate].index[0]]\n",
    "df_EQSTYLE_TRAIN = df_EQSTYLE[0:df_DATE[df_DATE==endTrainDate].index[0]]\n",
    "df_IMPVOL_TRAIN = df_IMPVOL[0:df_DATE[df_DATE==endTrainDate].index[0]]\n",
    "df_FED_TRAIN = df_FED[0:df_DATE[df_DATE==endTrainDate].index[0]]\n",
    "df_LEI_TRAIN = df_LEI[0:df_DATE[df_DATE==endTrainDate].index[0]]\n",
    "df_TOVER_TRAIN = df_TOVER[0:df_DATE[df_DATE==endTrainDate].index[0]]\n",
    "df_BETA_TRAIN = df_BETA[0:df_DATE[df_DATE==endTrainDate].index[0]]\n",
    "df_ROE_TRAIN = df_ROE[0:df_DATE[df_DATE==endTrainDate].index[0]]\n",
    "df_FREELIQ_TRAIN = df_FREELIQ[0:df_DATE[df_DATE==endTrainDate].index[0]]\n",
    "df_XSRET_TRAIN = df_XSRET[0:df_DATE[df_DATE==endTrainDate].index[0]]\n",
    "\n",
    "X_train = createMatrix(df_MOM12_TRAIN,df_MOM6_TRAIN,df_MOM3_TRAIN,df_MOM1_TRAIN,df_SMEY_TRAIN,df_EY_TRAIN, \\\n",
    "                    df_SMBP_TRAIN,df_BP_TRAIN,df_VRP_TRAIN,df_TSPREAD_TRAIN,df_VOL_TRAIN,df_EQSTYLE_TRAIN, \\\n",
    "                    df_IMPVOL_TRAIN,df_FED_TRAIN,df_LEI_TRAIN,df_TOVER_TRAIN,df_BETA_TRAIN,df_ROE_TRAIN,df_FREELIQ_TRAIN)\n",
    "Y_train = createMatrix(df_XSRET_TRAIN)\n",
    "\n",
    "endValidDate=pd.Timestamp('2016-01-29 00:00:00')\n",
    "df_MOM12_VALID = df_MOM12[df_DATE[df_DATE==endTrainDate].index[0]:df_DATE[df_DATE==endValidDate].index[0]]\n",
    "df_MOM6_VALID = df_MOM6[df_DATE[df_DATE==endTrainDate].index[0]:df_DATE[df_DATE==endValidDate].index[0]]\n",
    "df_MOM3_VALID = df_MOM3[df_DATE[df_DATE==endTrainDate].index[0]:df_DATE[df_DATE==endValidDate].index[0]]\n",
    "df_MOM1_VALID = df_MOM1[df_DATE[df_DATE==endTrainDate].index[0]:df_DATE[df_DATE==endValidDate].index[0]]\n",
    "df_SMEY_VALID = df_SMEY[df_DATE[df_DATE==endTrainDate].index[0]:df_DATE[df_DATE==endValidDate].index[0]]\n",
    "df_EY_VALID = df_EY[df_DATE[df_DATE==endTrainDate].index[0]:df_DATE[df_DATE==endValidDate].index[0]]\n",
    "df_SMBP_VALID = df_SMBP[df_DATE[df_DATE==endTrainDate].index[0]:df_DATE[df_DATE==endValidDate].index[0]]\n",
    "df_BP_VALID = df_BP[df_DATE[df_DATE==endTrainDate].index[0]:df_DATE[df_DATE==endValidDate].index[0]]\n",
    "df_VRP_VALID = df_VRP[df_DATE[df_DATE==endTrainDate].index[0]:df_DATE[df_DATE==endValidDate].index[0]]\n",
    "df_TSPREAD_VALID = df_TSPREAD[df_DATE[df_DATE==endTrainDate].index[0]:df_DATE[df_DATE==endValidDate].index[0]]\n",
    "df_VOL_VALID = df_VOL[df_DATE[df_DATE==endTrainDate].index[0]:df_DATE[df_DATE==endValidDate].index[0]]\n",
    "df_EQSTYLE_VALID = df_EQSTYLE[df_DATE[df_DATE==endTrainDate].index[0]:df_DATE[df_DATE==endValidDate].index[0]]\n",
    "df_IMPVOL_VALID = df_IMPVOL[df_DATE[df_DATE==endTrainDate].index[0]:df_DATE[df_DATE==endValidDate].index[0]]\n",
    "df_FED_VALID= df_FED[df_DATE[df_DATE==endTrainDate].index[0]:df_DATE[df_DATE==endValidDate].index[0]]\n",
    "df_LEI_VALID = df_LEI[df_DATE[df_DATE==endTrainDate].index[0]:df_DATE[df_DATE==endValidDate].index[0]]\n",
    "df_TOVER_VALID = df_TOVER[df_DATE[df_DATE==endTrainDate].index[0]:df_DATE[df_DATE==endValidDate].index[0]]\n",
    "df_BETA_VALID = df_BETA[df_DATE[df_DATE==endTrainDate].index[0]:df_DATE[df_DATE==endValidDate].index[0]]\n",
    "df_ROE_VALID = df_ROE[df_DATE[df_DATE==endTrainDate].index[0]:df_DATE[df_DATE==endValidDate].index[0]]\n",
    "df_FREELIQ_VALID = df_FREELIQ[df_DATE[df_DATE==endTrainDate].index[0]:df_DATE[df_DATE==endValidDate].index[0]]\n",
    "df_XSRET_VALID = df_XSRET[df_DATE[df_DATE==endTrainDate].index[0]:df_DATE[df_DATE==endValidDate].index[0]]\n",
    "\n",
    "X_valid = createMatrix(df_MOM12_VALID,df_MOM6_VALID,df_MOM3_VALID,df_MOM1_VALID,df_SMEY_VALID,df_EY_VALID, \\\n",
    "                    df_SMBP_VALID,df_BP_VALID,df_VRP_VALID,df_TSPREAD_VALID,df_VOL_VALID,df_EQSTYLE_VALID, \\\n",
    "                    df_IMPVOL_VALID,df_FED_VALID,df_LEI_VALID,df_TOVER_VALID,df_BETA_VALID,df_ROE_VALID,df_FREELIQ_VALID)\n",
    "Y_valid = createMatrix(df_XSRET_VALID)\n",
    "\n",
    "\n",
    "df_MOM12_TEST = df_MOM12[df_DATE[df_DATE==endValidDate].index[0]:]\n",
    "df_MOM6_TEST = df_MOM6[df_DATE[df_DATE==endValidDate].index[0]:]\n",
    "df_MOM3_TEST = df_MOM3[df_DATE[df_DATE==endValidDate].index[0]:]\n",
    "df_MOM1_TEST = df_MOM1[df_DATE[df_DATE==endValidDate].index[0]:]\n",
    "df_SMEY_TEST = df_SMEY[df_DATE[df_DATE==endValidDate].index[0]:]\n",
    "df_EY_TEST = df_EY[df_DATE[df_DATE==endValidDate].index[0]:]\n",
    "df_SMBP_TEST = df_SMBP[df_DATE[df_DATE==endValidDate].index[0]:]\n",
    "df_BP_TEST = df_BP[df_DATE[df_DATE==endValidDate].index[0]:]\n",
    "df_VRP_TEST = df_VRP[df_DATE[df_DATE==endValidDate].index[0]:]\n",
    "df_TSPREAD_TEST = df_TSPREAD[df_DATE[df_DATE==endValidDate].index[0]:]\n",
    "df_VOL_TEST = df_VOL[df_DATE[df_DATE==endValidDate].index[0]:]\n",
    "df_EQSTYLE_TEST = df_EQSTYLE[df_DATE[df_DATE==endValidDate].index[0]:]\n",
    "df_IMPVOL_TEST = df_IMPVOL[df_DATE[df_DATE==endValidDate].index[0]:]\n",
    "df_FED_TEST = df_FED[df_DATE[df_DATE==endValidDate].index[0]:]\n",
    "df_LEI_TEST = df_LEI[df_DATE[df_DATE==endValidDate].index[0]:]\n",
    "df_TOVER_TEST = df_TOVER[df_DATE[df_DATE==endValidDate].index[0]:]\n",
    "df_BETA_TEST = df_BETA[df_DATE[df_DATE==endValidDate].index[0]:]\n",
    "df_ROE_TEST = df_ROE[df_DATE[df_DATE==endValidDate].index[0]:]\n",
    "df_FREELIQ_TEST = df_FREELIQ[df_DATE[df_DATE==endValidDate].index[0]:]\n",
    "df_XSRET_TEST = df_XSRET[df_DATE[df_DATE==endValidDate].index[0]:]\n",
    "\n",
    "X_test = createMatrix(df_MOM12_TEST,df_MOM6_TEST,df_MOM3_TEST,df_MOM1_TEST,df_SMEY_TEST,df_EY_TEST, \\\n",
    "                    df_SMBP_TEST,df_BP_TEST,df_VRP_TEST,df_TSPREAD_TEST,df_VOL_TEST,df_EQSTYLE_TEST, \\\n",
    "                    df_IMPVOL_TEST,df_FED_TEST,df_LEI_TEST,df_TOVER_TEST,df_BETA_TEST,df_ROE_TEST,df_FREELIQ_TEST)\n",
    "Y_test = createMatrix(df_XSRET_TEST)"
   ]
  },
  {
   "cell_type": "markdown",
   "id": "f83afffd",
   "metadata": {},
   "source": [
    "\n",
    "1. Lag the features by one month since we expect the features for month N to forecast the excess returns for month N+1.\n",
    "2. Replace the relative excess returns with a '1' or a '-1' depending on whether they are above 0 or below 0\n",
    "\n",
    "Please note that we are using a z-score excess return feature so that any excess return greater than the average should have a positive excess return (> average) and any excess return below the average should have a negative excess return."
   ]
  },
  {
   "cell_type": "code",
   "execution_count": 6,
   "id": "ce718de0",
   "metadata": {},
   "outputs": [],
   "source": [
    "X_end = X_train.shape[0]\n",
    "X_train = X_train[0:X_end-1,:]\n",
    "Y_train = Y_train[1:Y_train.shape[0],:]\n",
    "\n",
    "X_end = X_valid.shape[0]\n",
    "X_valid = X_valid[0:X_end-1,:]\n",
    "Y_valid = Y_valid[1:Y_valid.shape[0],:]\n",
    "\n",
    "X_end = X_test.shape[0]\n",
    "X_test = X_test[0:X_end-1,:]\n",
    "Y_test = Y_test[1:Y_test.shape[0],:]"
   ]
  },
  {
   "cell_type": "code",
   "execution_count": 7,
   "id": "5c5497bf",
   "metadata": {},
   "outputs": [],
   "source": [
    "YMax = 0.0\n",
    "\n",
    "for i in range(Y_train.shape[0]):\n",
    "    if (Y_train[i] >= YMax):\n",
    "        Y_train[i] = 1\n",
    "    else:\n",
    "        Y_train[i] = -1             \n",
    "\n",
    "for i in range(Y_valid.shape[0]):\n",
    "    if (Y_valid[i] >= YMax):\n",
    "        Y_valid[i] = 1\n",
    "    else:\n",
    "        Y_valid[i] = -1       \n",
    "\n",
    "for i in range(Y_test.shape[0]):\n",
    "    if (Y_test[i] >= YMax):\n",
    "        Y_test[i] = 1\n",
    "    else:\n",
    "        Y_test[i] = -1       "
   ]
  },
  {
   "cell_type": "markdown",
   "id": "555ed343",
   "metadata": {},
   "source": [
    "\n",
    "Part 2: Fit a Single Decision Tree\n",
    "-----------------------------------------------\n",
    "\n",
    "Fit a decision trees with different depths up to `max_depth = 10`. Select the best depth, this will be useful to compare to the random forest approach next"
   ]
  },
  {
   "cell_type": "code",
   "execution_count": 8,
   "id": "f612d975",
   "metadata": {},
   "outputs": [
    {
     "name": "stdout",
     "output_type": "stream",
     "text": [
      "Depth: 1 Train Score: 0.5111640369157487 Validation Score: 0.49463647199046484\n",
      "Depth: 2 Train Score: 0.5415302173265852 Validation Score: 0.5077473182359953\n",
      "Depth: 3 Train Score: 0.5602857993450432 Validation Score: 0.5470798569725864\n",
      "Depth: 4 Train Score: 0.5718963977374218 Validation Score: 0.5089392133492253\n",
      "Depth: 5 Train Score: 0.5894611491515332 Validation Score: 0.5482717520858165\n",
      "Depth: 6 Train Score: 0.6132777612384638 Validation Score: 0.5256257449344458\n",
      "Depth: 7 Train Score: 0.6323310509080083 Validation Score: 0.531585220500596\n",
      "Depth: 8 Train Score: 0.6445370646025603 Validation Score: 0.5268176400476758\n",
      "Depth: 9 Train Score: 0.6615064007144984 Validation Score: 0.5375446960667462\n",
      "Depth: 10 Train Score: 0.6790711521286097 Validation Score: 0.5351609058402861\n",
      "5 0.5482717520858165\n"
     ]
    }
   ],
   "source": [
    "max_depth = 10\n",
    "bestscore = 0\n",
    "for i in range(max_depth):\n",
    "    clf = tree.DecisionTreeClassifier(max_depth=i+1, random_state=0)\n",
    "    clf.fit(X_train,Y_train)\n",
    "    trainscore=clf.score(X_train,Y_train)\n",
    "    valscore=clf.score(X_valid,Y_valid)    \n",
    "    print( 'Depth:', i+1, 'Train Score:', trainscore, 'Validation Score:', valscore)\n",
    "\n",
    "    if valscore>bestscore:\n",
    "        bestscore=valscore\n",
    "        bestdepth=i+1\n",
    "print(bestdepth, bestscore)"
   ]
  },
  {
   "cell_type": "code",
   "execution_count": null,
   "id": "165ac4ea",
   "metadata": {},
   "outputs": [],
   "source": [
    "The best solution from the decision tree is a depth of 5 and a validation score= 0.548.\n",
    "How does this compare to the random forest approach?"
   ]
  },
  {
   "cell_type": "markdown",
   "id": "2a443031",
   "metadata": {},
   "source": [
    "Part 3: Random Forest\n",
    "---------------------------------\n",
    "\n",
    "Build a random forest model using some hyperparameters that you think are 'good enough' to get a decent fit."
   ]
  },
  {
   "cell_type": "code",
   "execution_count": 9,
   "id": "c9bce054",
   "metadata": {
    "scrolled": true
   },
   "outputs": [
    {
     "data": {
      "text/plain": [
       "RandomForestClassifier(max_depth=4, max_features=4, n_estimators=50,\n",
       "                       random_state=0)"
      ]
     },
     "execution_count": 9,
     "metadata": {},
     "output_type": "execute_result"
    }
   ],
   "source": [
    "rf_clf = ensemble.RandomForestClassifier(n_estimators=50, max_features=4, max_depth=4,random_state=0)\n",
    "rf_clf.fit(X_train, np.ravel(Y_train))"
   ]
  },
  {
   "cell_type": "code",
   "execution_count": 10,
   "id": "fcd899bf",
   "metadata": {
    "scrolled": true
   },
   "outputs": [
    {
     "name": "stdout",
     "output_type": "stream",
     "text": [
      "Random Forest guess training  0.6484072640666865\n",
      "Random Forest guess validation  0.5244338498212158\n"
     ]
    }
   ],
   "source": [
    "print ( 'Random Forest guess training ',rf_clf.score(X_train, Y_train))\n",
    "print ( 'Random Forest guess validation ',rf_clf.score(X_valid, Y_valid))"
   ]
  },
  {
   "cell_type": "markdown",
   "id": "a9aee529",
   "metadata": {},
   "source": [
    "Since we don't let the random forest do whatever it wants our best guess yields a not-too-bad validation results = 0.524.\n",
    "Before we try and improve on this what are the most important features in the training+validation set?"
   ]
  },
  {
   "cell_type": "markdown",
   "id": "02e2d480",
   "metadata": {},
   "source": [
    "Part 4: Most Important Feature Selection\n",
    "----------------------------------------------------------\n",
    "\n",
    "We identify the most important features using two different methods:\n",
    "- Impurity metric approaches\n",
    "- Permutation Importances \n",
    "\n",
    "and we examine the most important features over the training and validation sets"
   ]
  },
  {
   "cell_type": "code",
   "execution_count": 11,
   "id": "b432f5f7",
   "metadata": {},
   "outputs": [
    {
     "data": {
      "text/plain": [
       "RandomForestClassifier(max_depth=4, max_features=4, n_estimators=50,\n",
       "                       random_state=0)"
      ]
     },
     "execution_count": 11,
     "metadata": {},
     "output_type": "execute_result"
    }
   ],
   "source": [
    "X_trainvalid = np.concatenate((X_train,X_valid),axis=0)\n",
    "Y_trainvalid = np.concatenate((Y_train,Y_valid),axis=0)\n",
    "rf_clf = ensemble.RandomForestClassifier(n_estimators=50, max_features=4, max_depth=4,random_state=0)\n",
    "rf_clf.fit(X_trainvalid, np.ravel(Y_trainvalid))"
   ]
  },
  {
   "cell_type": "code",
   "execution_count": 12,
   "id": "0744ba95",
   "metadata": {},
   "outputs": [],
   "source": [
    "feature_importances = rf_clf.feature_importances_\n",
    "sorted_idx = feature_importances.argsort()"
   ]
  },
  {
   "cell_type": "code",
   "execution_count": 13,
   "id": "0d4e4841",
   "metadata": {},
   "outputs": [],
   "source": [
    "feature_names = ['MOM12','MOM6','MOM3','MOM1','SMEY','EY','SMBP','BP','VRP','TSPREAD','VOL','EQSTYLE','IMPVOL', \\\n",
    "                 'FED','LEI','TOVER','BETA','ROE','FREELIQ']\n",
    "feature_names = np.array(feature_names)"
   ]
  },
  {
   "cell_type": "code",
   "execution_count": 14,
   "id": "364411ed",
   "metadata": {},
   "outputs": [],
   "source": [
    "def plot_impurity_metric_features( feature_importances, sorted_idx, feature_names):\n",
    "    y_ticks = np.arange(0, len(feature_names))\n",
    "    fig, ax = plt.subplots(figsize=(10, 10))\n",
    "    ax.barh(y_ticks, feature_importances[sorted_idx])\n",
    "    ax.set_yticks(y_ticks)\n",
    "    ax.set_yticklabels(feature_names[sorted_idx])\n",
    "    ax.set_title(\"Random Forest Feature Importances (MDI)\")\n",
    "    fig.tight_layout()\n",
    "    plt.show()\n"
   ]
  },
  {
   "cell_type": "code",
   "execution_count": 15,
   "id": "9460d399",
   "metadata": {
    "scrolled": false
   },
   "outputs": [
    {
     "data": {
      "image/png": "[encoded data removed]",
      "text/plain": [
       "<Figure size 720x720 with 1 Axes>"
      ]
     },
     "metadata": {
      "needs_background": "light"
     },
     "output_type": "display_data"
    }
   ],
   "source": [
    "# impurity metric based approach on training\n",
    "\n",
    "plot_impurity_metric_features( feature_importances, sorted_idx, feature_names)"
   ]
  },
  {
   "cell_type": "markdown",
   "id": "72c4520a",
   "metadata": {},
   "source": [
    "We can use the permutation importance to measure the feature importances on both the training and validation sets. "
   ]
  },
  {
   "cell_type": "code",
   "execution_count": 16,
   "id": "9a3e93f5",
   "metadata": {},
   "outputs": [],
   "source": [
    "# permutation method on the training data\n",
    "\n",
    "\n",
    "result = permutation_importance(estimator=rf_clf, X=X_trainvalid, y=Y_trainvalid, n_repeats=10, n_jobs=2)\n",
    "sorted_idx = result.importances_mean.argsort()"
   ]
  },
  {
   "cell_type": "code",
   "execution_count": 17,
   "id": "94042af0",
   "metadata": {
    "scrolled": true
   },
   "outputs": [
    {
     "data": {
      "image/png": "[encoded data removed]",
      "text/plain": [
       "<Figure size 720x720 with 1 Axes>"
      ]
     },
     "metadata": {
      "needs_background": "light"
     },
     "output_type": "display_data"
    }
   ],
   "source": [
    "\n",
    "def plot_perm_importance(result, sorted_idx, feature_names):\n",
    "\n",
    "    fig, ax = plt.subplots(figsize=(10, 10))\n",
    "    ax.boxplot(\n",
    "        result.importances[sorted_idx].T, vert=False, labels=feature_names[sorted_idx]\n",
    "    )\n",
    "    ax.set_title(\"Permutation Importances (train set)\")\n",
    "    fig.tight_layout()\n",
    "    plt.show()\n",
    "    \n",
    "plot_perm_importance(result, sorted_idx, feature_names)\n"
   ]
  },
  {
   "cell_type": "code",
   "execution_count": null,
   "id": "dc204b24",
   "metadata": {},
   "outputs": [],
   "source": [
    "In both the permutation case and theimpurity metric case the most important features are the same - VRP, MOM1 and EQSTYLE.\n",
    "It is encouraging to see such consistency across te differnt methodologies"
   ]
  },
  {
   "cell_type": "markdown",
   "id": "6c7bbab3",
   "metadata": {},
   "source": [
    "Aside - Hyperparameter selection via  Grid Search\n",
    "-----------------------------------------------------------------------\n",
    "\n",
    "I started to do a hyperparamter search using grid search but I gave up after 5 hours! "
   ]
  },
  {
   "cell_type": "code",
   "execution_count": 609,
   "id": "a33abd8a",
   "metadata": {},
   "outputs": [
    {
     "ename": "KeyboardInterrupt",
     "evalue": "",
     "output_type": "error",
     "traceback": [
      "\u001b[1;31m---------------------------------------------------------------------------\u001b[0m",
      "\u001b[1;31mKeyboardInterrupt\u001b[0m                         Traceback (most recent call last)",
      "Input \u001b[1;32mIn [609]\u001b[0m, in \u001b[0;36m<cell line: 14>\u001b[1;34m()\u001b[0m\n\u001b[0;32m     12\u001b[0m clf \u001b[38;5;241m=\u001b[39m ensemble\u001b[38;5;241m.\u001b[39mRandomForestClassifier(random_state\u001b[38;5;241m=\u001b[39m\u001b[38;5;241m0\u001b[39m)\n\u001b[0;32m     13\u001b[0m grid \u001b[38;5;241m=\u001b[39m GridSearchCV(clf, rf_params, cv\u001b[38;5;241m=\u001b[39m\u001b[38;5;241m3\u001b[39m, scoring\u001b[38;5;241m=\u001b[39m\u001b[38;5;124m'\u001b[39m\u001b[38;5;124maccuracy\u001b[39m\u001b[38;5;124m'\u001b[39m)\n\u001b[1;32m---> 14\u001b[0m \u001b[43mgrid\u001b[49m\u001b[38;5;241;43m.\u001b[39;49m\u001b[43mfit\u001b[49m\u001b[43m(\u001b[49m\u001b[43mX_trainval\u001b[49m\u001b[43m,\u001b[49m\u001b[43m \u001b[49m\u001b[43mnp\u001b[49m\u001b[38;5;241;43m.\u001b[39;49m\u001b[43mravel\u001b[49m\u001b[43m(\u001b[49m\u001b[43mY_trainval\u001b[49m\u001b[43m)\u001b[49m\u001b[43m)\u001b[49m\n\u001b[0;32m     15\u001b[0m \u001b[38;5;28mprint\u001b[39m(grid\u001b[38;5;241m.\u001b[39mbest_params_)\n\u001b[0;32m     16\u001b[0m \u001b[38;5;28mprint\u001b[39m(\u001b[38;5;124m\"\u001b[39m\u001b[38;5;124mAccuracy:\u001b[39m\u001b[38;5;124m\"\u001b[39m\u001b[38;5;241m+\u001b[39m \u001b[38;5;28mstr\u001b[39m(grid\u001b[38;5;241m.\u001b[39mbest_score_))\n",
      "File \u001b[1;32m~\\anaconda3\\lib\\site-packages\\sklearn\\model_selection\\_search.py:891\u001b[0m, in \u001b[0;36mBaseSearchCV.fit\u001b[1;34m(self, X, y, groups, **fit_params)\u001b[0m\n\u001b[0;32m    885\u001b[0m     results \u001b[38;5;241m=\u001b[39m \u001b[38;5;28mself\u001b[39m\u001b[38;5;241m.\u001b[39m_format_results(\n\u001b[0;32m    886\u001b[0m         all_candidate_params, n_splits, all_out, all_more_results\n\u001b[0;32m    887\u001b[0m     )\n\u001b[0;32m    889\u001b[0m     \u001b[38;5;28;01mreturn\u001b[39;00m results\n\u001b[1;32m--> 891\u001b[0m \u001b[38;5;28;43mself\u001b[39;49m\u001b[38;5;241;43m.\u001b[39;49m\u001b[43m_run_search\u001b[49m\u001b[43m(\u001b[49m\u001b[43mevaluate_candidates\u001b[49m\u001b[43m)\u001b[49m\n\u001b[0;32m    893\u001b[0m \u001b[38;5;66;03m# multimetric is determined here because in the case of a callable\u001b[39;00m\n\u001b[0;32m    894\u001b[0m \u001b[38;5;66;03m# self.scoring the return type is only known after calling\u001b[39;00m\n\u001b[0;32m    895\u001b[0m first_test_score \u001b[38;5;241m=\u001b[39m all_out[\u001b[38;5;241m0\u001b[39m][\u001b[38;5;124m\"\u001b[39m\u001b[38;5;124mtest_scores\u001b[39m\u001b[38;5;124m\"\u001b[39m]\n",
      "File \u001b[1;32m~\\anaconda3\\lib\\site-packages\\sklearn\\model_selection\\_search.py:1392\u001b[0m, in \u001b[0;36mGridSearchCV._run_search\u001b[1;34m(self, evaluate_candidates)\u001b[0m\n\u001b[0;32m   1390\u001b[0m \u001b[38;5;28;01mdef\u001b[39;00m \u001b[38;5;21m_run_search\u001b[39m(\u001b[38;5;28mself\u001b[39m, evaluate_candidates):\n\u001b[0;32m   1391\u001b[0m     \u001b[38;5;124;03m\"\"\"Search all candidates in param_grid\"\"\"\u001b[39;00m\n\u001b[1;32m-> 1392\u001b[0m     \u001b[43mevaluate_candidates\u001b[49m\u001b[43m(\u001b[49m\u001b[43mParameterGrid\u001b[49m\u001b[43m(\u001b[49m\u001b[38;5;28;43mself\u001b[39;49m\u001b[38;5;241;43m.\u001b[39;49m\u001b[43mparam_grid\u001b[49m\u001b[43m)\u001b[49m\u001b[43m)\u001b[49m\n",
      "File \u001b[1;32m~\\anaconda3\\lib\\site-packages\\sklearn\\model_selection\\_search.py:838\u001b[0m, in \u001b[0;36mBaseSearchCV.fit.<locals>.evaluate_candidates\u001b[1;34m(candidate_params, cv, more_results)\u001b[0m\n\u001b[0;32m    830\u001b[0m \u001b[38;5;28;01mif\u001b[39;00m \u001b[38;5;28mself\u001b[39m\u001b[38;5;241m.\u001b[39mverbose \u001b[38;5;241m>\u001b[39m \u001b[38;5;241m0\u001b[39m:\n\u001b[0;32m    831\u001b[0m     \u001b[38;5;28mprint\u001b[39m(\n\u001b[0;32m    832\u001b[0m         \u001b[38;5;124m\"\u001b[39m\u001b[38;5;124mFitting \u001b[39m\u001b[38;5;132;01m{0}\u001b[39;00m\u001b[38;5;124m folds for each of \u001b[39m\u001b[38;5;132;01m{1}\u001b[39;00m\u001b[38;5;124m candidates,\u001b[39m\u001b[38;5;124m\"\u001b[39m\n\u001b[0;32m    833\u001b[0m         \u001b[38;5;124m\"\u001b[39m\u001b[38;5;124m totalling \u001b[39m\u001b[38;5;132;01m{2}\u001b[39;00m\u001b[38;5;124m fits\u001b[39m\u001b[38;5;124m\"\u001b[39m\u001b[38;5;241m.\u001b[39mformat(\n\u001b[0;32m    834\u001b[0m             n_splits, n_candidates, n_candidates \u001b[38;5;241m*\u001b[39m n_splits\n\u001b[0;32m    835\u001b[0m         )\n\u001b[0;32m    836\u001b[0m     )\n\u001b[1;32m--> 838\u001b[0m out \u001b[38;5;241m=\u001b[39m \u001b[43mparallel\u001b[49m\u001b[43m(\u001b[49m\n\u001b[0;32m    839\u001b[0m \u001b[43m    \u001b[49m\u001b[43mdelayed\u001b[49m\u001b[43m(\u001b[49m\u001b[43m_fit_and_score\u001b[49m\u001b[43m)\u001b[49m\u001b[43m(\u001b[49m\n\u001b[0;32m    840\u001b[0m \u001b[43m        \u001b[49m\u001b[43mclone\u001b[49m\u001b[43m(\u001b[49m\u001b[43mbase_estimator\u001b[49m\u001b[43m)\u001b[49m\u001b[43m,\u001b[49m\n\u001b[0;32m    841\u001b[0m \u001b[43m        \u001b[49m\u001b[43mX\u001b[49m\u001b[43m,\u001b[49m\n\u001b[0;32m    842\u001b[0m \u001b[43m        \u001b[49m\u001b[43my\u001b[49m\u001b[43m,\u001b[49m\n\u001b[0;32m    843\u001b[0m \u001b[43m        \u001b[49m\u001b[43mtrain\u001b[49m\u001b[38;5;241;43m=\u001b[39;49m\u001b[43mtrain\u001b[49m\u001b[43m,\u001b[49m\n\u001b[0;32m    844\u001b[0m \u001b[43m        \u001b[49m\u001b[43mtest\u001b[49m\u001b[38;5;241;43m=\u001b[39;49m\u001b[43mtest\u001b[49m\u001b[43m,\u001b[49m\n\u001b[0;32m    845\u001b[0m \u001b[43m        \u001b[49m\u001b[43mparameters\u001b[49m\u001b[38;5;241;43m=\u001b[39;49m\u001b[43mparameters\u001b[49m\u001b[43m,\u001b[49m\n\u001b[0;32m    846\u001b[0m \u001b[43m        \u001b[49m\u001b[43msplit_progress\u001b[49m\u001b[38;5;241;43m=\u001b[39;49m\u001b[43m(\u001b[49m\u001b[43msplit_idx\u001b[49m\u001b[43m,\u001b[49m\u001b[43m \u001b[49m\u001b[43mn_splits\u001b[49m\u001b[43m)\u001b[49m\u001b[43m,\u001b[49m\n\u001b[0;32m    847\u001b[0m \u001b[43m        \u001b[49m\u001b[43mcandidate_progress\u001b[49m\u001b[38;5;241;43m=\u001b[39;49m\u001b[43m(\u001b[49m\u001b[43mcand_idx\u001b[49m\u001b[43m,\u001b[49m\u001b[43m \u001b[49m\u001b[43mn_candidates\u001b[49m\u001b[43m)\u001b[49m\u001b[43m,\u001b[49m\n\u001b[0;32m    848\u001b[0m \u001b[43m        \u001b[49m\u001b[38;5;241;43m*\u001b[39;49m\u001b[38;5;241;43m*\u001b[39;49m\u001b[43mfit_and_score_kwargs\u001b[49m\u001b[43m,\u001b[49m\n\u001b[0;32m    849\u001b[0m \u001b[43m    \u001b[49m\u001b[43m)\u001b[49m\n\u001b[0;32m    850\u001b[0m \u001b[43m    \u001b[49m\u001b[38;5;28;43;01mfor\u001b[39;49;00m\u001b[43m \u001b[49m\u001b[43m(\u001b[49m\u001b[43mcand_idx\u001b[49m\u001b[43m,\u001b[49m\u001b[43m \u001b[49m\u001b[43mparameters\u001b[49m\u001b[43m)\u001b[49m\u001b[43m,\u001b[49m\u001b[43m \u001b[49m\u001b[43m(\u001b[49m\u001b[43msplit_idx\u001b[49m\u001b[43m,\u001b[49m\u001b[43m \u001b[49m\u001b[43m(\u001b[49m\u001b[43mtrain\u001b[49m\u001b[43m,\u001b[49m\u001b[43m \u001b[49m\u001b[43mtest\u001b[49m\u001b[43m)\u001b[49m\u001b[43m)\u001b[49m\u001b[43m \u001b[49m\u001b[38;5;129;43;01min\u001b[39;49;00m\u001b[43m \u001b[49m\u001b[43mproduct\u001b[49m\u001b[43m(\u001b[49m\n\u001b[0;32m    851\u001b[0m \u001b[43m        \u001b[49m\u001b[38;5;28;43menumerate\u001b[39;49m\u001b[43m(\u001b[49m\u001b[43mcandidate_params\u001b[49m\u001b[43m)\u001b[49m\u001b[43m,\u001b[49m\u001b[43m \u001b[49m\u001b[38;5;28;43menumerate\u001b[39;49m\u001b[43m(\u001b[49m\u001b[43mcv\u001b[49m\u001b[38;5;241;43m.\u001b[39;49m\u001b[43msplit\u001b[49m\u001b[43m(\u001b[49m\u001b[43mX\u001b[49m\u001b[43m,\u001b[49m\u001b[43m \u001b[49m\u001b[43my\u001b[49m\u001b[43m,\u001b[49m\u001b[43m \u001b[49m\u001b[43mgroups\u001b[49m\u001b[43m)\u001b[49m\u001b[43m)\u001b[49m\n\u001b[0;32m    852\u001b[0m \u001b[43m    \u001b[49m\u001b[43m)\u001b[49m\n\u001b[0;32m    853\u001b[0m \u001b[43m\u001b[49m\u001b[43m)\u001b[49m\n\u001b[0;32m    855\u001b[0m \u001b[38;5;28;01mif\u001b[39;00m \u001b[38;5;28mlen\u001b[39m(out) \u001b[38;5;241m<\u001b[39m \u001b[38;5;241m1\u001b[39m:\n\u001b[0;32m    856\u001b[0m     \u001b[38;5;28;01mraise\u001b[39;00m \u001b[38;5;167;01mValueError\u001b[39;00m(\n\u001b[0;32m    857\u001b[0m         \u001b[38;5;124m\"\u001b[39m\u001b[38;5;124mNo fits were performed. \u001b[39m\u001b[38;5;124m\"\u001b[39m\n\u001b[0;32m    858\u001b[0m         \u001b[38;5;124m\"\u001b[39m\u001b[38;5;124mWas the CV iterator empty? \u001b[39m\u001b[38;5;124m\"\u001b[39m\n\u001b[0;32m    859\u001b[0m         \u001b[38;5;124m\"\u001b[39m\u001b[38;5;124mWere there no candidates?\u001b[39m\u001b[38;5;124m\"\u001b[39m\n\u001b[0;32m    860\u001b[0m     )\n",
      "File \u001b[1;32m~\\anaconda3\\lib\\site-packages\\joblib\\parallel.py:1046\u001b[0m, in \u001b[0;36mParallel.__call__\u001b[1;34m(self, iterable)\u001b[0m\n\u001b[0;32m   1043\u001b[0m \u001b[38;5;28;01mif\u001b[39;00m \u001b[38;5;28mself\u001b[39m\u001b[38;5;241m.\u001b[39mdispatch_one_batch(iterator):\n\u001b[0;32m   1044\u001b[0m     \u001b[38;5;28mself\u001b[39m\u001b[38;5;241m.\u001b[39m_iterating \u001b[38;5;241m=\u001b[39m \u001b[38;5;28mself\u001b[39m\u001b[38;5;241m.\u001b[39m_original_iterator \u001b[38;5;129;01mis\u001b[39;00m \u001b[38;5;129;01mnot\u001b[39;00m \u001b[38;5;28;01mNone\u001b[39;00m\n\u001b[1;32m-> 1046\u001b[0m \u001b[38;5;28;01mwhile\u001b[39;00m \u001b[38;5;28;43mself\u001b[39;49m\u001b[38;5;241;43m.\u001b[39;49m\u001b[43mdispatch_one_batch\u001b[49m\u001b[43m(\u001b[49m\u001b[43miterator\u001b[49m\u001b[43m)\u001b[49m:\n\u001b[0;32m   1047\u001b[0m     \u001b[38;5;28;01mpass\u001b[39;00m\n\u001b[0;32m   1049\u001b[0m \u001b[38;5;28;01mif\u001b[39;00m pre_dispatch \u001b[38;5;241m==\u001b[39m \u001b[38;5;124m\"\u001b[39m\u001b[38;5;124mall\u001b[39m\u001b[38;5;124m\"\u001b[39m \u001b[38;5;129;01mor\u001b[39;00m n_jobs \u001b[38;5;241m==\u001b[39m \u001b[38;5;241m1\u001b[39m:\n\u001b[0;32m   1050\u001b[0m     \u001b[38;5;66;03m# The iterable was consumed all at once by the above for loop.\u001b[39;00m\n\u001b[0;32m   1051\u001b[0m     \u001b[38;5;66;03m# No need to wait for async callbacks to trigger to\u001b[39;00m\n\u001b[0;32m   1052\u001b[0m     \u001b[38;5;66;03m# consumption.\u001b[39;00m\n",
      "File \u001b[1;32m~\\anaconda3\\lib\\site-packages\\joblib\\parallel.py:861\u001b[0m, in \u001b[0;36mParallel.dispatch_one_batch\u001b[1;34m(self, iterator)\u001b[0m\n\u001b[0;32m    859\u001b[0m     \u001b[38;5;28;01mreturn\u001b[39;00m \u001b[38;5;28;01mFalse\u001b[39;00m\n\u001b[0;32m    860\u001b[0m \u001b[38;5;28;01melse\u001b[39;00m:\n\u001b[1;32m--> 861\u001b[0m     \u001b[38;5;28;43mself\u001b[39;49m\u001b[38;5;241;43m.\u001b[39;49m\u001b[43m_dispatch\u001b[49m\u001b[43m(\u001b[49m\u001b[43mtasks\u001b[49m\u001b[43m)\u001b[49m\n\u001b[0;32m    862\u001b[0m     \u001b[38;5;28;01mreturn\u001b[39;00m \u001b[38;5;28;01mTrue\u001b[39;00m\n",
      "File \u001b[1;32m~\\anaconda3\\lib\\site-packages\\joblib\\parallel.py:779\u001b[0m, in \u001b[0;36mParallel._dispatch\u001b[1;34m(self, batch)\u001b[0m\n\u001b[0;32m    777\u001b[0m \u001b[38;5;28;01mwith\u001b[39;00m \u001b[38;5;28mself\u001b[39m\u001b[38;5;241m.\u001b[39m_lock:\n\u001b[0;32m    778\u001b[0m     job_idx \u001b[38;5;241m=\u001b[39m \u001b[38;5;28mlen\u001b[39m(\u001b[38;5;28mself\u001b[39m\u001b[38;5;241m.\u001b[39m_jobs)\n\u001b[1;32m--> 779\u001b[0m     job \u001b[38;5;241m=\u001b[39m \u001b[38;5;28;43mself\u001b[39;49m\u001b[38;5;241;43m.\u001b[39;49m\u001b[43m_backend\u001b[49m\u001b[38;5;241;43m.\u001b[39;49m\u001b[43mapply_async\u001b[49m\u001b[43m(\u001b[49m\u001b[43mbatch\u001b[49m\u001b[43m,\u001b[49m\u001b[43m \u001b[49m\u001b[43mcallback\u001b[49m\u001b[38;5;241;43m=\u001b[39;49m\u001b[43mcb\u001b[49m\u001b[43m)\u001b[49m\n\u001b[0;32m    780\u001b[0m     \u001b[38;5;66;03m# A job can complete so quickly than its callback is\u001b[39;00m\n\u001b[0;32m    781\u001b[0m     \u001b[38;5;66;03m# called before we get here, causing self._jobs to\u001b[39;00m\n\u001b[0;32m    782\u001b[0m     \u001b[38;5;66;03m# grow. To ensure correct results ordering, .insert is\u001b[39;00m\n\u001b[0;32m    783\u001b[0m     \u001b[38;5;66;03m# used (rather than .append) in the following line\u001b[39;00m\n\u001b[0;32m    784\u001b[0m     \u001b[38;5;28mself\u001b[39m\u001b[38;5;241m.\u001b[39m_jobs\u001b[38;5;241m.\u001b[39minsert(job_idx, job)\n",
      "File \u001b[1;32m~\\anaconda3\\lib\\site-packages\\joblib\\_parallel_backends.py:208\u001b[0m, in \u001b[0;36mSequentialBackend.apply_async\u001b[1;34m(self, func, callback)\u001b[0m\n\u001b[0;32m    206\u001b[0m \u001b[38;5;28;01mdef\u001b[39;00m \u001b[38;5;21mapply_async\u001b[39m(\u001b[38;5;28mself\u001b[39m, func, callback\u001b[38;5;241m=\u001b[39m\u001b[38;5;28;01mNone\u001b[39;00m):\n\u001b[0;32m    207\u001b[0m     \u001b[38;5;124;03m\"\"\"Schedule a func to be run\"\"\"\u001b[39;00m\n\u001b[1;32m--> 208\u001b[0m     result \u001b[38;5;241m=\u001b[39m \u001b[43mImmediateResult\u001b[49m\u001b[43m(\u001b[49m\u001b[43mfunc\u001b[49m\u001b[43m)\u001b[49m\n\u001b[0;32m    209\u001b[0m     \u001b[38;5;28;01mif\u001b[39;00m callback:\n\u001b[0;32m    210\u001b[0m         callback(result)\n",
      "File \u001b[1;32m~\\anaconda3\\lib\\site-packages\\joblib\\_parallel_backends.py:572\u001b[0m, in \u001b[0;36mImmediateResult.__init__\u001b[1;34m(self, batch)\u001b[0m\n\u001b[0;32m    569\u001b[0m \u001b[38;5;28;01mdef\u001b[39;00m \u001b[38;5;21m__init__\u001b[39m(\u001b[38;5;28mself\u001b[39m, batch):\n\u001b[0;32m    570\u001b[0m     \u001b[38;5;66;03m# Don't delay the application, to avoid keeping the input\u001b[39;00m\n\u001b[0;32m    571\u001b[0m     \u001b[38;5;66;03m# arguments in memory\u001b[39;00m\n\u001b[1;32m--> 572\u001b[0m     \u001b[38;5;28mself\u001b[39m\u001b[38;5;241m.\u001b[39mresults \u001b[38;5;241m=\u001b[39m \u001b[43mbatch\u001b[49m\u001b[43m(\u001b[49m\u001b[43m)\u001b[49m\n",
      "File \u001b[1;32m~\\anaconda3\\lib\\site-packages\\joblib\\parallel.py:262\u001b[0m, in \u001b[0;36mBatchedCalls.__call__\u001b[1;34m(self)\u001b[0m\n\u001b[0;32m    258\u001b[0m \u001b[38;5;28;01mdef\u001b[39;00m \u001b[38;5;21m__call__\u001b[39m(\u001b[38;5;28mself\u001b[39m):\n\u001b[0;32m    259\u001b[0m     \u001b[38;5;66;03m# Set the default nested backend to self._backend but do not set the\u001b[39;00m\n\u001b[0;32m    260\u001b[0m     \u001b[38;5;66;03m# change the default number of processes to -1\u001b[39;00m\n\u001b[0;32m    261\u001b[0m     \u001b[38;5;28;01mwith\u001b[39;00m parallel_backend(\u001b[38;5;28mself\u001b[39m\u001b[38;5;241m.\u001b[39m_backend, n_jobs\u001b[38;5;241m=\u001b[39m\u001b[38;5;28mself\u001b[39m\u001b[38;5;241m.\u001b[39m_n_jobs):\n\u001b[1;32m--> 262\u001b[0m         \u001b[38;5;28;01mreturn\u001b[39;00m [func(\u001b[38;5;241m*\u001b[39margs, \u001b[38;5;241m*\u001b[39m\u001b[38;5;241m*\u001b[39mkwargs)\n\u001b[0;32m    263\u001b[0m                 \u001b[38;5;28;01mfor\u001b[39;00m func, args, kwargs \u001b[38;5;129;01min\u001b[39;00m \u001b[38;5;28mself\u001b[39m\u001b[38;5;241m.\u001b[39mitems]\n",
      "File \u001b[1;32m~\\anaconda3\\lib\\site-packages\\joblib\\parallel.py:262\u001b[0m, in \u001b[0;36m<listcomp>\u001b[1;34m(.0)\u001b[0m\n\u001b[0;32m    258\u001b[0m \u001b[38;5;28;01mdef\u001b[39;00m \u001b[38;5;21m__call__\u001b[39m(\u001b[38;5;28mself\u001b[39m):\n\u001b[0;32m    259\u001b[0m     \u001b[38;5;66;03m# Set the default nested backend to self._backend but do not set the\u001b[39;00m\n\u001b[0;32m    260\u001b[0m     \u001b[38;5;66;03m# change the default number of processes to -1\u001b[39;00m\n\u001b[0;32m    261\u001b[0m     \u001b[38;5;28;01mwith\u001b[39;00m parallel_backend(\u001b[38;5;28mself\u001b[39m\u001b[38;5;241m.\u001b[39m_backend, n_jobs\u001b[38;5;241m=\u001b[39m\u001b[38;5;28mself\u001b[39m\u001b[38;5;241m.\u001b[39m_n_jobs):\n\u001b[1;32m--> 262\u001b[0m         \u001b[38;5;28;01mreturn\u001b[39;00m [func(\u001b[38;5;241m*\u001b[39margs, \u001b[38;5;241m*\u001b[39m\u001b[38;5;241m*\u001b[39mkwargs)\n\u001b[0;32m    263\u001b[0m                 \u001b[38;5;28;01mfor\u001b[39;00m func, args, kwargs \u001b[38;5;129;01min\u001b[39;00m \u001b[38;5;28mself\u001b[39m\u001b[38;5;241m.\u001b[39mitems]\n",
      "File \u001b[1;32m~\\anaconda3\\lib\\site-packages\\sklearn\\utils\\fixes.py:216\u001b[0m, in \u001b[0;36m_FuncWrapper.__call__\u001b[1;34m(self, *args, **kwargs)\u001b[0m\n\u001b[0;32m    214\u001b[0m \u001b[38;5;28;01mdef\u001b[39;00m \u001b[38;5;21m__call__\u001b[39m(\u001b[38;5;28mself\u001b[39m, \u001b[38;5;241m*\u001b[39margs, \u001b[38;5;241m*\u001b[39m\u001b[38;5;241m*\u001b[39mkwargs):\n\u001b[0;32m    215\u001b[0m     \u001b[38;5;28;01mwith\u001b[39;00m config_context(\u001b[38;5;241m*\u001b[39m\u001b[38;5;241m*\u001b[39m\u001b[38;5;28mself\u001b[39m\u001b[38;5;241m.\u001b[39mconfig):\n\u001b[1;32m--> 216\u001b[0m         \u001b[38;5;28;01mreturn\u001b[39;00m \u001b[38;5;28mself\u001b[39m\u001b[38;5;241m.\u001b[39mfunction(\u001b[38;5;241m*\u001b[39margs, \u001b[38;5;241m*\u001b[39m\u001b[38;5;241m*\u001b[39mkwargs)\n",
      "File \u001b[1;32m~\\anaconda3\\lib\\site-packages\\sklearn\\model_selection\\_validation.py:680\u001b[0m, in \u001b[0;36m_fit_and_score\u001b[1;34m(estimator, X, y, scorer, train, test, verbose, parameters, fit_params, return_train_score, return_parameters, return_n_test_samples, return_times, return_estimator, split_progress, candidate_progress, error_score)\u001b[0m\n\u001b[0;32m    678\u001b[0m         estimator\u001b[38;5;241m.\u001b[39mfit(X_train, \u001b[38;5;241m*\u001b[39m\u001b[38;5;241m*\u001b[39mfit_params)\n\u001b[0;32m    679\u001b[0m     \u001b[38;5;28;01melse\u001b[39;00m:\n\u001b[1;32m--> 680\u001b[0m         estimator\u001b[38;5;241m.\u001b[39mfit(X_train, y_train, \u001b[38;5;241m*\u001b[39m\u001b[38;5;241m*\u001b[39mfit_params)\n\u001b[0;32m    682\u001b[0m \u001b[38;5;28;01mexcept\u001b[39;00m \u001b[38;5;167;01mException\u001b[39;00m:\n\u001b[0;32m    683\u001b[0m     \u001b[38;5;66;03m# Note fit time as time until error\u001b[39;00m\n\u001b[0;32m    684\u001b[0m     fit_time \u001b[38;5;241m=\u001b[39m time\u001b[38;5;241m.\u001b[39mtime() \u001b[38;5;241m-\u001b[39m start_time\n",
      "File \u001b[1;32m~\\anaconda3\\lib\\site-packages\\sklearn\\ensemble\\_forest.py:450\u001b[0m, in \u001b[0;36mBaseForest.fit\u001b[1;34m(self, X, y, sample_weight)\u001b[0m\n\u001b[0;32m    439\u001b[0m trees \u001b[38;5;241m=\u001b[39m [\n\u001b[0;32m    440\u001b[0m     \u001b[38;5;28mself\u001b[39m\u001b[38;5;241m.\u001b[39m_make_estimator(append\u001b[38;5;241m=\u001b[39m\u001b[38;5;28;01mFalse\u001b[39;00m, random_state\u001b[38;5;241m=\u001b[39mrandom_state)\n\u001b[0;32m    441\u001b[0m     \u001b[38;5;28;01mfor\u001b[39;00m i \u001b[38;5;129;01min\u001b[39;00m \u001b[38;5;28mrange\u001b[39m(n_more_estimators)\n\u001b[0;32m    442\u001b[0m ]\n\u001b[0;32m    444\u001b[0m \u001b[38;5;66;03m# Parallel loop: we prefer the threading backend as the Cython code\u001b[39;00m\n\u001b[0;32m    445\u001b[0m \u001b[38;5;66;03m# for fitting the trees is internally releasing the Python GIL\u001b[39;00m\n\u001b[0;32m    446\u001b[0m \u001b[38;5;66;03m# making threading more efficient than multiprocessing in\u001b[39;00m\n\u001b[0;32m    447\u001b[0m \u001b[38;5;66;03m# that case. However, for joblib 0.12+ we respect any\u001b[39;00m\n\u001b[0;32m    448\u001b[0m \u001b[38;5;66;03m# parallel_backend contexts set at a higher level,\u001b[39;00m\n\u001b[0;32m    449\u001b[0m \u001b[38;5;66;03m# since correctness does not rely on using threads.\u001b[39;00m\n\u001b[1;32m--> 450\u001b[0m trees \u001b[38;5;241m=\u001b[39m \u001b[43mParallel\u001b[49m\u001b[43m(\u001b[49m\n\u001b[0;32m    451\u001b[0m \u001b[43m    \u001b[49m\u001b[43mn_jobs\u001b[49m\u001b[38;5;241;43m=\u001b[39;49m\u001b[38;5;28;43mself\u001b[39;49m\u001b[38;5;241;43m.\u001b[39;49m\u001b[43mn_jobs\u001b[49m\u001b[43m,\u001b[49m\n\u001b[0;32m    452\u001b[0m \u001b[43m    \u001b[49m\u001b[43mverbose\u001b[49m\u001b[38;5;241;43m=\u001b[39;49m\u001b[38;5;28;43mself\u001b[39;49m\u001b[38;5;241;43m.\u001b[39;49m\u001b[43mverbose\u001b[49m\u001b[43m,\u001b[49m\n\u001b[0;32m    453\u001b[0m \u001b[43m    \u001b[49m\u001b[38;5;241;43m*\u001b[39;49m\u001b[38;5;241;43m*\u001b[39;49m\u001b[43m_joblib_parallel_args\u001b[49m\u001b[43m(\u001b[49m\u001b[43mprefer\u001b[49m\u001b[38;5;241;43m=\u001b[39;49m\u001b[38;5;124;43m\"\u001b[39;49m\u001b[38;5;124;43mthreads\u001b[39;49m\u001b[38;5;124;43m\"\u001b[39;49m\u001b[43m)\u001b[49m\u001b[43m,\u001b[49m\n\u001b[0;32m    454\u001b[0m \u001b[43m\u001b[49m\u001b[43m)\u001b[49m\u001b[43m(\u001b[49m\n\u001b[0;32m    455\u001b[0m \u001b[43m    \u001b[49m\u001b[43mdelayed\u001b[49m\u001b[43m(\u001b[49m\u001b[43m_parallel_build_trees\u001b[49m\u001b[43m)\u001b[49m\u001b[43m(\u001b[49m\n\u001b[0;32m    456\u001b[0m \u001b[43m        \u001b[49m\u001b[43mt\u001b[49m\u001b[43m,\u001b[49m\n\u001b[0;32m    457\u001b[0m \u001b[43m        \u001b[49m\u001b[38;5;28;43mself\u001b[39;49m\u001b[43m,\u001b[49m\n\u001b[0;32m    458\u001b[0m \u001b[43m        \u001b[49m\u001b[43mX\u001b[49m\u001b[43m,\u001b[49m\n\u001b[0;32m    459\u001b[0m \u001b[43m        \u001b[49m\u001b[43my\u001b[49m\u001b[43m,\u001b[49m\n\u001b[0;32m    460\u001b[0m \u001b[43m        \u001b[49m\u001b[43msample_weight\u001b[49m\u001b[43m,\u001b[49m\n\u001b[0;32m    461\u001b[0m \u001b[43m        \u001b[49m\u001b[43mi\u001b[49m\u001b[43m,\u001b[49m\n\u001b[0;32m    462\u001b[0m \u001b[43m        \u001b[49m\u001b[38;5;28;43mlen\u001b[39;49m\u001b[43m(\u001b[49m\u001b[43mtrees\u001b[49m\u001b[43m)\u001b[49m\u001b[43m,\u001b[49m\n\u001b[0;32m    463\u001b[0m \u001b[43m        \u001b[49m\u001b[43mverbose\u001b[49m\u001b[38;5;241;43m=\u001b[39;49m\u001b[38;5;28;43mself\u001b[39;49m\u001b[38;5;241;43m.\u001b[39;49m\u001b[43mverbose\u001b[49m\u001b[43m,\u001b[49m\n\u001b[0;32m    464\u001b[0m \u001b[43m        \u001b[49m\u001b[43mclass_weight\u001b[49m\u001b[38;5;241;43m=\u001b[39;49m\u001b[38;5;28;43mself\u001b[39;49m\u001b[38;5;241;43m.\u001b[39;49m\u001b[43mclass_weight\u001b[49m\u001b[43m,\u001b[49m\n\u001b[0;32m    465\u001b[0m \u001b[43m        \u001b[49m\u001b[43mn_samples_bootstrap\u001b[49m\u001b[38;5;241;43m=\u001b[39;49m\u001b[43mn_samples_bootstrap\u001b[49m\u001b[43m,\u001b[49m\n\u001b[0;32m    466\u001b[0m \u001b[43m    \u001b[49m\u001b[43m)\u001b[49m\n\u001b[0;32m    467\u001b[0m \u001b[43m    \u001b[49m\u001b[38;5;28;43;01mfor\u001b[39;49;00m\u001b[43m \u001b[49m\u001b[43mi\u001b[49m\u001b[43m,\u001b[49m\u001b[43m \u001b[49m\u001b[43mt\u001b[49m\u001b[43m \u001b[49m\u001b[38;5;129;43;01min\u001b[39;49;00m\u001b[43m \u001b[49m\u001b[38;5;28;43menumerate\u001b[39;49m\u001b[43m(\u001b[49m\u001b[43mtrees\u001b[49m\u001b[43m)\u001b[49m\n\u001b[0;32m    468\u001b[0m \u001b[43m\u001b[49m\u001b[43m)\u001b[49m\n\u001b[0;32m    470\u001b[0m \u001b[38;5;66;03m# Collect newly grown trees\u001b[39;00m\n\u001b[0;32m    471\u001b[0m \u001b[38;5;28mself\u001b[39m\u001b[38;5;241m.\u001b[39mestimators_\u001b[38;5;241m.\u001b[39mextend(trees)\n",
      "File \u001b[1;32m~\\anaconda3\\lib\\site-packages\\joblib\\parallel.py:1046\u001b[0m, in \u001b[0;36mParallel.__call__\u001b[1;34m(self, iterable)\u001b[0m\n\u001b[0;32m   1043\u001b[0m \u001b[38;5;28;01mif\u001b[39;00m \u001b[38;5;28mself\u001b[39m\u001b[38;5;241m.\u001b[39mdispatch_one_batch(iterator):\n\u001b[0;32m   1044\u001b[0m     \u001b[38;5;28mself\u001b[39m\u001b[38;5;241m.\u001b[39m_iterating \u001b[38;5;241m=\u001b[39m \u001b[38;5;28mself\u001b[39m\u001b[38;5;241m.\u001b[39m_original_iterator \u001b[38;5;129;01mis\u001b[39;00m \u001b[38;5;129;01mnot\u001b[39;00m \u001b[38;5;28;01mNone\u001b[39;00m\n\u001b[1;32m-> 1046\u001b[0m \u001b[38;5;28;01mwhile\u001b[39;00m \u001b[38;5;28;43mself\u001b[39;49m\u001b[38;5;241;43m.\u001b[39;49m\u001b[43mdispatch_one_batch\u001b[49m\u001b[43m(\u001b[49m\u001b[43miterator\u001b[49m\u001b[43m)\u001b[49m:\n\u001b[0;32m   1047\u001b[0m     \u001b[38;5;28;01mpass\u001b[39;00m\n\u001b[0;32m   1049\u001b[0m \u001b[38;5;28;01mif\u001b[39;00m pre_dispatch \u001b[38;5;241m==\u001b[39m \u001b[38;5;124m\"\u001b[39m\u001b[38;5;124mall\u001b[39m\u001b[38;5;124m\"\u001b[39m \u001b[38;5;129;01mor\u001b[39;00m n_jobs \u001b[38;5;241m==\u001b[39m \u001b[38;5;241m1\u001b[39m:\n\u001b[0;32m   1050\u001b[0m     \u001b[38;5;66;03m# The iterable was consumed all at once by the above for loop.\u001b[39;00m\n\u001b[0;32m   1051\u001b[0m     \u001b[38;5;66;03m# No need to wait for async callbacks to trigger to\u001b[39;00m\n\u001b[0;32m   1052\u001b[0m     \u001b[38;5;66;03m# consumption.\u001b[39;00m\n",
      "File \u001b[1;32m~\\anaconda3\\lib\\site-packages\\joblib\\parallel.py:861\u001b[0m, in \u001b[0;36mParallel.dispatch_one_batch\u001b[1;34m(self, iterator)\u001b[0m\n\u001b[0;32m    859\u001b[0m     \u001b[38;5;28;01mreturn\u001b[39;00m \u001b[38;5;28;01mFalse\u001b[39;00m\n\u001b[0;32m    860\u001b[0m \u001b[38;5;28;01melse\u001b[39;00m:\n\u001b[1;32m--> 861\u001b[0m     \u001b[38;5;28;43mself\u001b[39;49m\u001b[38;5;241;43m.\u001b[39;49m\u001b[43m_dispatch\u001b[49m\u001b[43m(\u001b[49m\u001b[43mtasks\u001b[49m\u001b[43m)\u001b[49m\n\u001b[0;32m    862\u001b[0m     \u001b[38;5;28;01mreturn\u001b[39;00m \u001b[38;5;28;01mTrue\u001b[39;00m\n",
      "File \u001b[1;32m~\\anaconda3\\lib\\site-packages\\joblib\\parallel.py:779\u001b[0m, in \u001b[0;36mParallel._dispatch\u001b[1;34m(self, batch)\u001b[0m\n\u001b[0;32m    777\u001b[0m \u001b[38;5;28;01mwith\u001b[39;00m \u001b[38;5;28mself\u001b[39m\u001b[38;5;241m.\u001b[39m_lock:\n\u001b[0;32m    778\u001b[0m     job_idx \u001b[38;5;241m=\u001b[39m \u001b[38;5;28mlen\u001b[39m(\u001b[38;5;28mself\u001b[39m\u001b[38;5;241m.\u001b[39m_jobs)\n\u001b[1;32m--> 779\u001b[0m     job \u001b[38;5;241m=\u001b[39m \u001b[38;5;28;43mself\u001b[39;49m\u001b[38;5;241;43m.\u001b[39;49m\u001b[43m_backend\u001b[49m\u001b[38;5;241;43m.\u001b[39;49m\u001b[43mapply_async\u001b[49m\u001b[43m(\u001b[49m\u001b[43mbatch\u001b[49m\u001b[43m,\u001b[49m\u001b[43m \u001b[49m\u001b[43mcallback\u001b[49m\u001b[38;5;241;43m=\u001b[39;49m\u001b[43mcb\u001b[49m\u001b[43m)\u001b[49m\n\u001b[0;32m    780\u001b[0m     \u001b[38;5;66;03m# A job can complete so quickly than its callback is\u001b[39;00m\n\u001b[0;32m    781\u001b[0m     \u001b[38;5;66;03m# called before we get here, causing self._jobs to\u001b[39;00m\n\u001b[0;32m    782\u001b[0m     \u001b[38;5;66;03m# grow. To ensure correct results ordering, .insert is\u001b[39;00m\n\u001b[0;32m    783\u001b[0m     \u001b[38;5;66;03m# used (rather than .append) in the following line\u001b[39;00m\n\u001b[0;32m    784\u001b[0m     \u001b[38;5;28mself\u001b[39m\u001b[38;5;241m.\u001b[39m_jobs\u001b[38;5;241m.\u001b[39minsert(job_idx, job)\n",
      "File \u001b[1;32m~\\anaconda3\\lib\\site-packages\\joblib\\_parallel_backends.py:208\u001b[0m, in \u001b[0;36mSequentialBackend.apply_async\u001b[1;34m(self, func, callback)\u001b[0m\n\u001b[0;32m    206\u001b[0m \u001b[38;5;28;01mdef\u001b[39;00m \u001b[38;5;21mapply_async\u001b[39m(\u001b[38;5;28mself\u001b[39m, func, callback\u001b[38;5;241m=\u001b[39m\u001b[38;5;28;01mNone\u001b[39;00m):\n\u001b[0;32m    207\u001b[0m     \u001b[38;5;124;03m\"\"\"Schedule a func to be run\"\"\"\u001b[39;00m\n\u001b[1;32m--> 208\u001b[0m     result \u001b[38;5;241m=\u001b[39m \u001b[43mImmediateResult\u001b[49m\u001b[43m(\u001b[49m\u001b[43mfunc\u001b[49m\u001b[43m)\u001b[49m\n\u001b[0;32m    209\u001b[0m     \u001b[38;5;28;01mif\u001b[39;00m callback:\n\u001b[0;32m    210\u001b[0m         callback(result)\n",
      "File \u001b[1;32m~\\anaconda3\\lib\\site-packages\\joblib\\_parallel_backends.py:572\u001b[0m, in \u001b[0;36mImmediateResult.__init__\u001b[1;34m(self, batch)\u001b[0m\n\u001b[0;32m    569\u001b[0m \u001b[38;5;28;01mdef\u001b[39;00m \u001b[38;5;21m__init__\u001b[39m(\u001b[38;5;28mself\u001b[39m, batch):\n\u001b[0;32m    570\u001b[0m     \u001b[38;5;66;03m# Don't delay the application, to avoid keeping the input\u001b[39;00m\n\u001b[0;32m    571\u001b[0m     \u001b[38;5;66;03m# arguments in memory\u001b[39;00m\n\u001b[1;32m--> 572\u001b[0m     \u001b[38;5;28mself\u001b[39m\u001b[38;5;241m.\u001b[39mresults \u001b[38;5;241m=\u001b[39m \u001b[43mbatch\u001b[49m\u001b[43m(\u001b[49m\u001b[43m)\u001b[49m\n",
      "File \u001b[1;32m~\\anaconda3\\lib\\site-packages\\joblib\\parallel.py:262\u001b[0m, in \u001b[0;36mBatchedCalls.__call__\u001b[1;34m(self)\u001b[0m\n\u001b[0;32m    258\u001b[0m \u001b[38;5;28;01mdef\u001b[39;00m \u001b[38;5;21m__call__\u001b[39m(\u001b[38;5;28mself\u001b[39m):\n\u001b[0;32m    259\u001b[0m     \u001b[38;5;66;03m# Set the default nested backend to self._backend but do not set the\u001b[39;00m\n\u001b[0;32m    260\u001b[0m     \u001b[38;5;66;03m# change the default number of processes to -1\u001b[39;00m\n\u001b[0;32m    261\u001b[0m     \u001b[38;5;28;01mwith\u001b[39;00m parallel_backend(\u001b[38;5;28mself\u001b[39m\u001b[38;5;241m.\u001b[39m_backend, n_jobs\u001b[38;5;241m=\u001b[39m\u001b[38;5;28mself\u001b[39m\u001b[38;5;241m.\u001b[39m_n_jobs):\n\u001b[1;32m--> 262\u001b[0m         \u001b[38;5;28;01mreturn\u001b[39;00m [func(\u001b[38;5;241m*\u001b[39margs, \u001b[38;5;241m*\u001b[39m\u001b[38;5;241m*\u001b[39mkwargs)\n\u001b[0;32m    263\u001b[0m                 \u001b[38;5;28;01mfor\u001b[39;00m func, args, kwargs \u001b[38;5;129;01min\u001b[39;00m \u001b[38;5;28mself\u001b[39m\u001b[38;5;241m.\u001b[39mitems]\n",
      "File \u001b[1;32m~\\anaconda3\\lib\\site-packages\\joblib\\parallel.py:262\u001b[0m, in \u001b[0;36m<listcomp>\u001b[1;34m(.0)\u001b[0m\n\u001b[0;32m    258\u001b[0m \u001b[38;5;28;01mdef\u001b[39;00m \u001b[38;5;21m__call__\u001b[39m(\u001b[38;5;28mself\u001b[39m):\n\u001b[0;32m    259\u001b[0m     \u001b[38;5;66;03m# Set the default nested backend to self._backend but do not set the\u001b[39;00m\n\u001b[0;32m    260\u001b[0m     \u001b[38;5;66;03m# change the default number of processes to -1\u001b[39;00m\n\u001b[0;32m    261\u001b[0m     \u001b[38;5;28;01mwith\u001b[39;00m parallel_backend(\u001b[38;5;28mself\u001b[39m\u001b[38;5;241m.\u001b[39m_backend, n_jobs\u001b[38;5;241m=\u001b[39m\u001b[38;5;28mself\u001b[39m\u001b[38;5;241m.\u001b[39m_n_jobs):\n\u001b[1;32m--> 262\u001b[0m         \u001b[38;5;28;01mreturn\u001b[39;00m [func(\u001b[38;5;241m*\u001b[39margs, \u001b[38;5;241m*\u001b[39m\u001b[38;5;241m*\u001b[39mkwargs)\n\u001b[0;32m    263\u001b[0m                 \u001b[38;5;28;01mfor\u001b[39;00m func, args, kwargs \u001b[38;5;129;01min\u001b[39;00m \u001b[38;5;28mself\u001b[39m\u001b[38;5;241m.\u001b[39mitems]\n",
      "File \u001b[1;32m~\\anaconda3\\lib\\site-packages\\sklearn\\utils\\fixes.py:216\u001b[0m, in \u001b[0;36m_FuncWrapper.__call__\u001b[1;34m(self, *args, **kwargs)\u001b[0m\n\u001b[0;32m    214\u001b[0m \u001b[38;5;28;01mdef\u001b[39;00m \u001b[38;5;21m__call__\u001b[39m(\u001b[38;5;28mself\u001b[39m, \u001b[38;5;241m*\u001b[39margs, \u001b[38;5;241m*\u001b[39m\u001b[38;5;241m*\u001b[39mkwargs):\n\u001b[0;32m    215\u001b[0m     \u001b[38;5;28;01mwith\u001b[39;00m config_context(\u001b[38;5;241m*\u001b[39m\u001b[38;5;241m*\u001b[39m\u001b[38;5;28mself\u001b[39m\u001b[38;5;241m.\u001b[39mconfig):\n\u001b[1;32m--> 216\u001b[0m         \u001b[38;5;28;01mreturn\u001b[39;00m \u001b[38;5;28mself\u001b[39m\u001b[38;5;241m.\u001b[39mfunction(\u001b[38;5;241m*\u001b[39margs, \u001b[38;5;241m*\u001b[39m\u001b[38;5;241m*\u001b[39mkwargs)\n",
      "File \u001b[1;32m~\\anaconda3\\lib\\site-packages\\sklearn\\ensemble\\_forest.py:185\u001b[0m, in \u001b[0;36m_parallel_build_trees\u001b[1;34m(tree, forest, X, y, sample_weight, tree_idx, n_trees, verbose, class_weight, n_samples_bootstrap)\u001b[0m\n\u001b[0;32m    182\u001b[0m     \u001b[38;5;28;01melif\u001b[39;00m class_weight \u001b[38;5;241m==\u001b[39m \u001b[38;5;124m\"\u001b[39m\u001b[38;5;124mbalanced_subsample\u001b[39m\u001b[38;5;124m\"\u001b[39m:\n\u001b[0;32m    183\u001b[0m         curr_sample_weight \u001b[38;5;241m*\u001b[39m\u001b[38;5;241m=\u001b[39m compute_sample_weight(\u001b[38;5;124m\"\u001b[39m\u001b[38;5;124mbalanced\u001b[39m\u001b[38;5;124m\"\u001b[39m, y, indices\u001b[38;5;241m=\u001b[39mindices)\n\u001b[1;32m--> 185\u001b[0m     \u001b[43mtree\u001b[49m\u001b[38;5;241;43m.\u001b[39;49m\u001b[43mfit\u001b[49m\u001b[43m(\u001b[49m\u001b[43mX\u001b[49m\u001b[43m,\u001b[49m\u001b[43m \u001b[49m\u001b[43my\u001b[49m\u001b[43m,\u001b[49m\u001b[43m \u001b[49m\u001b[43msample_weight\u001b[49m\u001b[38;5;241;43m=\u001b[39;49m\u001b[43mcurr_sample_weight\u001b[49m\u001b[43m,\u001b[49m\u001b[43m \u001b[49m\u001b[43mcheck_input\u001b[49m\u001b[38;5;241;43m=\u001b[39;49m\u001b[38;5;28;43;01mFalse\u001b[39;49;00m\u001b[43m)\u001b[49m\n\u001b[0;32m    186\u001b[0m \u001b[38;5;28;01melse\u001b[39;00m:\n\u001b[0;32m    187\u001b[0m     tree\u001b[38;5;241m.\u001b[39mfit(X, y, sample_weight\u001b[38;5;241m=\u001b[39msample_weight, check_input\u001b[38;5;241m=\u001b[39m\u001b[38;5;28;01mFalse\u001b[39;00m)\n",
      "File \u001b[1;32m~\\anaconda3\\lib\\site-packages\\sklearn\\tree\\_classes.py:937\u001b[0m, in \u001b[0;36mDecisionTreeClassifier.fit\u001b[1;34m(self, X, y, sample_weight, check_input, X_idx_sorted)\u001b[0m\n\u001b[0;32m    899\u001b[0m \u001b[38;5;28;01mdef\u001b[39;00m \u001b[38;5;21mfit\u001b[39m(\n\u001b[0;32m    900\u001b[0m     \u001b[38;5;28mself\u001b[39m, X, y, sample_weight\u001b[38;5;241m=\u001b[39m\u001b[38;5;28;01mNone\u001b[39;00m, check_input\u001b[38;5;241m=\u001b[39m\u001b[38;5;28;01mTrue\u001b[39;00m, X_idx_sorted\u001b[38;5;241m=\u001b[39m\u001b[38;5;124m\"\u001b[39m\u001b[38;5;124mdeprecated\u001b[39m\u001b[38;5;124m\"\u001b[39m\n\u001b[0;32m    901\u001b[0m ):\n\u001b[0;32m    902\u001b[0m     \u001b[38;5;124;03m\"\"\"Build a decision tree classifier from the training set (X, y).\u001b[39;00m\n\u001b[0;32m    903\u001b[0m \n\u001b[0;32m    904\u001b[0m \u001b[38;5;124;03m    Parameters\u001b[39;00m\n\u001b[1;32m   (...)\u001b[0m\n\u001b[0;32m    934\u001b[0m \u001b[38;5;124;03m        Fitted estimator.\u001b[39;00m\n\u001b[0;32m    935\u001b[0m \u001b[38;5;124;03m    \"\"\"\u001b[39;00m\n\u001b[1;32m--> 937\u001b[0m     \u001b[38;5;28;43msuper\u001b[39;49m\u001b[43m(\u001b[49m\u001b[43m)\u001b[49m\u001b[38;5;241;43m.\u001b[39;49m\u001b[43mfit\u001b[49m\u001b[43m(\u001b[49m\n\u001b[0;32m    938\u001b[0m \u001b[43m        \u001b[49m\u001b[43mX\u001b[49m\u001b[43m,\u001b[49m\n\u001b[0;32m    939\u001b[0m \u001b[43m        \u001b[49m\u001b[43my\u001b[49m\u001b[43m,\u001b[49m\n\u001b[0;32m    940\u001b[0m \u001b[43m        \u001b[49m\u001b[43msample_weight\u001b[49m\u001b[38;5;241;43m=\u001b[39;49m\u001b[43msample_weight\u001b[49m\u001b[43m,\u001b[49m\n\u001b[0;32m    941\u001b[0m \u001b[43m        \u001b[49m\u001b[43mcheck_input\u001b[49m\u001b[38;5;241;43m=\u001b[39;49m\u001b[43mcheck_input\u001b[49m\u001b[43m,\u001b[49m\n\u001b[0;32m    942\u001b[0m \u001b[43m        \u001b[49m\u001b[43mX_idx_sorted\u001b[49m\u001b[38;5;241;43m=\u001b[39;49m\u001b[43mX_idx_sorted\u001b[49m\u001b[43m,\u001b[49m\n\u001b[0;32m    943\u001b[0m \u001b[43m    \u001b[49m\u001b[43m)\u001b[49m\n\u001b[0;32m    944\u001b[0m     \u001b[38;5;28;01mreturn\u001b[39;00m \u001b[38;5;28mself\u001b[39m\n",
      "File \u001b[1;32m~\\anaconda3\\lib\\site-packages\\sklearn\\tree\\_classes.py:203\u001b[0m, in \u001b[0;36mBaseDecisionTree.fit\u001b[1;34m(self, X, y, sample_weight, check_input, X_idx_sorted)\u001b[0m\n\u001b[0;32m    200\u001b[0m \u001b[38;5;28mself\u001b[39m\u001b[38;5;241m.\u001b[39mn_outputs_ \u001b[38;5;241m=\u001b[39m y\u001b[38;5;241m.\u001b[39mshape[\u001b[38;5;241m1\u001b[39m]\n\u001b[0;32m    202\u001b[0m \u001b[38;5;28;01mif\u001b[39;00m is_classification:\n\u001b[1;32m--> 203\u001b[0m     \u001b[43mcheck_classification_targets\u001b[49m\u001b[43m(\u001b[49m\u001b[43my\u001b[49m\u001b[43m)\u001b[49m\n\u001b[0;32m    204\u001b[0m     y \u001b[38;5;241m=\u001b[39m np\u001b[38;5;241m.\u001b[39mcopy(y)\n\u001b[0;32m    206\u001b[0m     \u001b[38;5;28mself\u001b[39m\u001b[38;5;241m.\u001b[39mclasses_ \u001b[38;5;241m=\u001b[39m []\n",
      "File \u001b[1;32m~\\anaconda3\\lib\\site-packages\\sklearn\\utils\\multiclass.py:189\u001b[0m, in \u001b[0;36mcheck_classification_targets\u001b[1;34m(y)\u001b[0m\n\u001b[0;32m    178\u001b[0m \u001b[38;5;28;01mdef\u001b[39;00m \u001b[38;5;21mcheck_classification_targets\u001b[39m(y):\n\u001b[0;32m    179\u001b[0m     \u001b[38;5;124;03m\"\"\"Ensure that target y is of a non-regression type.\u001b[39;00m\n\u001b[0;32m    180\u001b[0m \n\u001b[0;32m    181\u001b[0m \u001b[38;5;124;03m    Only the following target types (as defined in type_of_target) are allowed:\u001b[39;00m\n\u001b[1;32m   (...)\u001b[0m\n\u001b[0;32m    187\u001b[0m \u001b[38;5;124;03m    y : array-like\u001b[39;00m\n\u001b[0;32m    188\u001b[0m \u001b[38;5;124;03m    \"\"\"\u001b[39;00m\n\u001b[1;32m--> 189\u001b[0m     y_type \u001b[38;5;241m=\u001b[39m \u001b[43mtype_of_target\u001b[49m\u001b[43m(\u001b[49m\u001b[43my\u001b[49m\u001b[43m)\u001b[49m\n\u001b[0;32m    190\u001b[0m     \u001b[38;5;28;01mif\u001b[39;00m y_type \u001b[38;5;129;01mnot\u001b[39;00m \u001b[38;5;129;01min\u001b[39;00m [\n\u001b[0;32m    191\u001b[0m         \u001b[38;5;124m\"\u001b[39m\u001b[38;5;124mbinary\u001b[39m\u001b[38;5;124m\"\u001b[39m,\n\u001b[0;32m    192\u001b[0m         \u001b[38;5;124m\"\u001b[39m\u001b[38;5;124mmulticlass\u001b[39m\u001b[38;5;124m\"\u001b[39m,\n\u001b[1;32m   (...)\u001b[0m\n\u001b[0;32m    195\u001b[0m         \u001b[38;5;124m\"\u001b[39m\u001b[38;5;124mmultilabel-sequences\u001b[39m\u001b[38;5;124m\"\u001b[39m,\n\u001b[0;32m    196\u001b[0m     ]:\n\u001b[0;32m    197\u001b[0m         \u001b[38;5;28;01mraise\u001b[39;00m \u001b[38;5;167;01mValueError\u001b[39;00m(\u001b[38;5;124m\"\u001b[39m\u001b[38;5;124mUnknown label type: \u001b[39m\u001b[38;5;132;01m%r\u001b[39;00m\u001b[38;5;124m\"\u001b[39m \u001b[38;5;241m%\u001b[39m y_type)\n",
      "File \u001b[1;32m~\\anaconda3\\lib\\site-packages\\sklearn\\utils\\multiclass.py:327\u001b[0m, in \u001b[0;36mtype_of_target\u001b[1;34m(y)\u001b[0m\n\u001b[0;32m    324\u001b[0m     _assert_all_finite(y)\n\u001b[0;32m    325\u001b[0m     \u001b[38;5;28;01mreturn\u001b[39;00m \u001b[38;5;124m\"\u001b[39m\u001b[38;5;124mcontinuous\u001b[39m\u001b[38;5;124m\"\u001b[39m \u001b[38;5;241m+\u001b[39m suffix\n\u001b[1;32m--> 327\u001b[0m \u001b[38;5;28;01mif\u001b[39;00m (\u001b[38;5;28mlen\u001b[39m(\u001b[43mnp\u001b[49m\u001b[38;5;241;43m.\u001b[39;49m\u001b[43munique\u001b[49m\u001b[43m(\u001b[49m\u001b[43my\u001b[49m\u001b[43m)\u001b[49m) \u001b[38;5;241m>\u001b[39m \u001b[38;5;241m2\u001b[39m) \u001b[38;5;129;01mor\u001b[39;00m (y\u001b[38;5;241m.\u001b[39mndim \u001b[38;5;241m>\u001b[39m\u001b[38;5;241m=\u001b[39m \u001b[38;5;241m2\u001b[39m \u001b[38;5;129;01mand\u001b[39;00m \u001b[38;5;28mlen\u001b[39m(y[\u001b[38;5;241m0\u001b[39m]) \u001b[38;5;241m>\u001b[39m \u001b[38;5;241m1\u001b[39m):\n\u001b[0;32m    328\u001b[0m     \u001b[38;5;28;01mreturn\u001b[39;00m \u001b[38;5;124m\"\u001b[39m\u001b[38;5;124mmulticlass\u001b[39m\u001b[38;5;124m\"\u001b[39m \u001b[38;5;241m+\u001b[39m suffix  \u001b[38;5;66;03m# [1, 2, 3] or [[1., 2., 3]] or [[1, 2]]\u001b[39;00m\n\u001b[0;32m    329\u001b[0m \u001b[38;5;28;01melse\u001b[39;00m:\n",
      "File \u001b[1;32m<__array_function__ internals>:5\u001b[0m, in \u001b[0;36munique\u001b[1;34m(*args, **kwargs)\u001b[0m\n",
      "File \u001b[1;32m~\\anaconda3\\lib\\site-packages\\numpy\\lib\\arraysetops.py:272\u001b[0m, in \u001b[0;36munique\u001b[1;34m(ar, return_index, return_inverse, return_counts, axis)\u001b[0m\n\u001b[0;32m    270\u001b[0m ar \u001b[38;5;241m=\u001b[39m np\u001b[38;5;241m.\u001b[39masanyarray(ar)\n\u001b[0;32m    271\u001b[0m \u001b[38;5;28;01mif\u001b[39;00m axis \u001b[38;5;129;01mis\u001b[39;00m \u001b[38;5;28;01mNone\u001b[39;00m:\n\u001b[1;32m--> 272\u001b[0m     ret \u001b[38;5;241m=\u001b[39m \u001b[43m_unique1d\u001b[49m\u001b[43m(\u001b[49m\u001b[43mar\u001b[49m\u001b[43m,\u001b[49m\u001b[43m \u001b[49m\u001b[43mreturn_index\u001b[49m\u001b[43m,\u001b[49m\u001b[43m \u001b[49m\u001b[43mreturn_inverse\u001b[49m\u001b[43m,\u001b[49m\u001b[43m \u001b[49m\u001b[43mreturn_counts\u001b[49m\u001b[43m)\u001b[49m\n\u001b[0;32m    273\u001b[0m     \u001b[38;5;28;01mreturn\u001b[39;00m _unpack_tuple(ret)\n\u001b[0;32m    275\u001b[0m \u001b[38;5;66;03m# axis was specified and not None\u001b[39;00m\n",
      "File \u001b[1;32m~\\anaconda3\\lib\\site-packages\\numpy\\lib\\arraysetops.py:333\u001b[0m, in \u001b[0;36m_unique1d\u001b[1;34m(ar, return_index, return_inverse, return_counts)\u001b[0m\n\u001b[0;32m    331\u001b[0m     aux \u001b[38;5;241m=\u001b[39m ar[perm]\n\u001b[0;32m    332\u001b[0m \u001b[38;5;28;01melse\u001b[39;00m:\n\u001b[1;32m--> 333\u001b[0m     \u001b[43mar\u001b[49m\u001b[38;5;241;43m.\u001b[39;49m\u001b[43msort\u001b[49m\u001b[43m(\u001b[49m\u001b[43m)\u001b[49m\n\u001b[0;32m    334\u001b[0m     aux \u001b[38;5;241m=\u001b[39m ar\n\u001b[0;32m    335\u001b[0m mask \u001b[38;5;241m=\u001b[39m np\u001b[38;5;241m.\u001b[39mempty(aux\u001b[38;5;241m.\u001b[39mshape, dtype\u001b[38;5;241m=\u001b[39mnp\u001b[38;5;241m.\u001b[39mbool_)\n",
      "\u001b[1;31mKeyboardInterrupt\u001b[0m: "
     ]
    }
   ],
   "source": [
    "#Random Forest\n",
    "from sklearn.model_selection import GridSearchCV\n",
    "# Define the hyperparameter configuration space\n",
    "\n",
    "rf_params = {\n",
    "    'n_estimators': [10, 20, 30, 40, 50, 60, 70 ,80, 90, 100],\n",
    "    \"max_features\": [1,2,3,4,5,6,7,8,9,10],\n",
    "    'max_depth': [3,4,5,6,7,8,9,10],\n",
    "    \"min_samples_split\":[2,3,4,5,6,7,8,9,10,11],\n",
    "    \"min_samples_leaf\":[1,2,3,4,5,6,7,8,9,10,11]\n",
    "}\n",
    "clf = ensemble.RandomForestClassifier(random_state=0)\n",
    "grid = GridSearchCV(clf, rf_params, cv=3, scoring='accuracy')\n",
    "grid.fit(X_trainval, np.ravel(Y_trainval))\n",
    "print(grid.best_params_)\n",
    "print(\"Accuracy:\"+ str(grid.best_score_))"
   ]
  },
  {
   "cell_type": "markdown",
   "id": "6ddbe918",
   "metadata": {},
   "source": [
    "Part 5 - Hyperparameter selection via  Bayesian Optimisation\n",
    "---------------------------------------------------------------------------------------\n",
    "\n",
    "I picked the most important hyperparameters of a random forest for the bayesioan approach and ran it 20 times."
   ]
  },
  {
   "cell_type": "code",
   "execution_count": 18,
   "id": "5d3d90cd",
   "metadata": {},
   "outputs": [
    {
     "name": "stdout",
     "output_type": "stream",
     "text": [
      "OrderedDict([('criterion', 'entropy'), ('max_depth', 8), ('max_features', 9), ('min_samples_leaf', 1), ('min_samples_split', 11), ('n_estimators', 62)])\n",
      "Accuracy:0.5266784097484597\n"
     ]
    }
   ],
   "source": [
    "from skopt import Optimizer\n",
    "from skopt import BayesSearchCV \n",
    "from skopt.space import Real, Categorical, Integer\n",
    "# Define the hyperparameter configuration space\n",
    "rf_params = {\n",
    "    'n_estimators': Integer(10,100),\n",
    "    \"max_features\":Integer(1,10),  \n",
    "    'max_depth': Integer(3,10),\n",
    "    \"min_samples_split\":Integer(2,11),\n",
    "    \"min_samples_leaf\":Integer(1,11),\n",
    "    \"criterion\":['gini','entropy']\n",
    "}\n",
    "clf = ensemble.RandomForestClassifier(random_state=0)\n",
    "Bayes = BayesSearchCV(clf, rf_params,cv=3,n_iter=20, n_jobs=-1,scoring='accuracy')\n",
    "Bayes.fit(X_trainvalid, np.ravel(Y_trainvalid))\n",
    "Bayes.score(X_valid, Y_valid)\n",
    "print(Bayes.best_params_)\n",
    "bclf = Bayes.best_estimator_\n",
    "print(\"Accuracy:\"+ str(Bayes.best_score_))"
   ]
  },
  {
   "cell_type": "code",
   "execution_count": 21,
   "id": "01de13ec",
   "metadata": {},
   "outputs": [
    {
     "name": "stdout",
     "output_type": "stream",
     "text": [
      "Random forest (post Bayes) validation set 0.8092967818831943\n"
     ]
    }
   ],
   "source": [
    "best_clf = ensemble.RandomForestClassifier(n_estimators=62, max_features=8, max_depth=8, min_samples_split=11, \\\n",
    "                                         min_samples_leaf=1, criterion='entropy', random_state=0)\n",
    "best_clf.fit(X_trainvalid, np.ravel(Y_trainvalid))\n",
    "\n",
    "print ( f'Random forest (post Bayes) validation set',best_clf.score(X_valid, Y_valid))"
   ]
  },
  {
   "cell_type": "code",
   "execution_count": null,
   "id": "2fccbd27",
   "metadata": {},
   "outputs": [],
   "source": [
    "We note that usiong Bayesian optimisation to pick the optimal parameters using the training and validation sets \n",
    "results in a much better result for the validation set.\n",
    "\n",
    "This result is far superior to the one achieved above by 'guessing' the correct values."
   ]
  },
  {
   "cell_type": "markdown",
   "id": "4fdfa5dc",
   "metadata": {},
   "source": [
    "Step 6 - Perfromance on the test set\n",
    "-----------------------------------------------------\n",
    "\n",
    "Given the good perfromance on the validation set, how does the model perfrom on the test set?"
   ]
  },
  {
   "cell_type": "code",
   "execution_count": 22,
   "id": "b1d84d45",
   "metadata": {},
   "outputs": [
    {
     "name": "stdout",
     "output_type": "stream",
     "text": [
      "Random forest (post Bayes) test set  0.52894438138479\n"
     ]
    }
   ],
   "source": [
    "print ( f'Random forest (post Bayes) test set ',best_clf.score(X_test, Y_test))"
   ]
  },
  {
   "cell_type": "markdown",
   "id": "58cc1565",
   "metadata": {},
   "source": [
    "Now calculate the permutation importance on the test set. "
   ]
  },
  {
   "cell_type": "code",
   "execution_count": 37,
   "id": "5dc534c3",
   "metadata": {},
   "outputs": [
    {
     "data": {
      "image/png": "[encoded data removed]",
      "text/plain": [
       "<Figure size 720x720 with 1 Axes>"
      ]
     },
     "metadata": {
      "needs_background": "light"
     },
     "output_type": "display_data"
    }
   ],
   "source": [
    "result = permutation_importance(best_clf, X_test, Y_test, n_repeats=10, n_jobs=2\n",
    ")\n",
    "sorted_idx = result.importances_mean.argsort()\n",
    "\n",
    "plot_perm_importance(result, sorted_idx, feature_names)"
   ]
  },
  {
   "cell_type": "markdown",
   "id": "f342205d",
   "metadata": {},
   "source": [
    "Summary\n",
    "--------------\n",
    "\n",
    "We note a number of things about the test results:\n",
    "\n",
    "1. Using Bayesian optimisation to arrive at the optimal parameters worked ok. Applying these hyperparameters to the validation dataset yielded a much better validation set accusacy than our simple guess at the start.\n",
    "\n",
    "2. While the accuracy in the test set (53%) is less than in the validation set (80%) this is still a good result. Why? \n",
    "Unlike many of the ML examples we had throughout the course, accuarcy rates of 90% - 100% are unheard of in financial data since it is extremely noisy and subject to business cycles - see the model card for more details. An accuracy rate of 53% is actually a very good starting point for a real-world model.\n",
    "\n",
    "3. The most important features - MOM1, VRP and EQSTYLE - are consistently in the Top 5 throughout the training, validation and testing datasets indicating that these are very important features. See the model card for an idea of how identifying these 3 features forms the basis of the investment strategy.\n",
    "\n",
    "Overall this is a pretty good result and I look forward to extending and expanding the model to see if the accuracy rates can be increased a touch (say c. 60%). Random forests are pretty robust to noise and I am keen to see if the more sophisticated approached (ANN, CNN) do as good a job. "
   ]
  }
 ],
 "metadata": {
  "kernelspec": {
   "display_name": "Python 3 (ipykernel)",
   "language": "python",
   "name": "python3"
  },
  "language_info": {
   "codemirror_mode": {
    "name": "ipython",
    "version": 3
   },
   "file_extension": ".py",
   "mimetype": "text/x-python",
   "name": "python",
   "nbconvert_exporter": "python",
   "pygments_lexer": "ipython3",
   "version": "3.9.12"
  }
 },
 "nbformat": 4,
 "nbformat_minor": 5
}
